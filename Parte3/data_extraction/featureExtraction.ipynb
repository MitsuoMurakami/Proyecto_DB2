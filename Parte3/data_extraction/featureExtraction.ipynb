{
 "cells": [
  {
   "metadata": {
    "ExecuteTime": {
     "end_time": "2024-11-16T03:40:20.930282Z",
     "start_time": "2024-11-16T03:40:20.922187Z"
    }
   },
   "cell_type": "code",
   "source": [
    "import pandas as pd\n",
    "import numpy as np\n",
    "import matplotlib.pyplot as plt\n",
    "import seaborn as sns\n",
    "import os\n",
    "import glob\n",
    "import librosa\n",
    "import pickle\n",
    "from IPython.display import Audio"
   ],
   "id": "47a06c5fa5e70c92",
   "outputs": [],
   "execution_count": 1
  },
  {
   "metadata": {},
   "cell_type": "markdown",
   "source": "## Preprocessing",
   "id": "921581045f79ae2a"
  },
  {
   "cell_type": "code",
   "id": "initial_id",
   "metadata": {
    "collapsed": true,
    "ExecuteTime": {
     "end_time": "2024-11-16T03:40:51.244149Z",
     "start_time": "2024-11-16T03:40:50.930081Z"
    }
   },
   "source": [
    "\n",
    "DATASET_PATH = r\"C:\\Code\\UTEC\\BD2\\Proyecto2\\Proyecto_DB2\\Parte3\\data_extraction\\data_previews\"\n",
    "\n",
    "train_data = []\n",
    "for path in glob.iglob(os.path.join(DATASET_PATH, \"*.mp3\")):\n",
    "    video_id = path.split(\"\\\\\")[-1]\n",
    "    video_id = video_id.split(\"_\")[-1]\n",
    "    video_id = video_id.split(\".\")[0]\n",
    "    train_data.append({\"track_id\":video_id, \"path\": path})\n",
    "    \n",
    "    \n",
    "train_data = pd.DataFrame(train_data)\n",
    "train_data.head(10)"
   ],
   "outputs": [
    {
     "data": {
      "text/plain": [
       "                 track_id                                               path\n",
       "0  7pse475uICmWRY5hEkvPvI  C:\\Code\\UTEC\\BD2\\Proyecto2\\Proyecto_DB2\\Parte3...\n",
       "1  6AoYWCzsDls6c61Zp5qTuU  C:\\Code\\UTEC\\BD2\\Proyecto2\\Proyecto_DB2\\Parte3...\n",
       "2  6QZtmgaUkxWk3Rlq3Upll6  C:\\Code\\UTEC\\BD2\\Proyecto2\\Proyecto_DB2\\Parte3...\n",
       "3  1jBmW1fRXgLhy1XwE0SJTN  C:\\Code\\UTEC\\BD2\\Proyecto2\\Proyecto_DB2\\Parte3...\n",
       "4  4GYWNXDrG5wWOJteicSy7b  C:\\Code\\UTEC\\BD2\\Proyecto2\\Proyecto_DB2\\Parte3...\n",
       "5  4COGASZEbAxmH6k5gYMo6G  C:\\Code\\UTEC\\BD2\\Proyecto2\\Proyecto_DB2\\Parte3...\n",
       "6  0r0UDwngm74U5ccMQ9gMBM  C:\\Code\\UTEC\\BD2\\Proyecto2\\Proyecto_DB2\\Parte3...\n",
       "7  3Ot04s80MZBhiYP2wHo0is  C:\\Code\\UTEC\\BD2\\Proyecto2\\Proyecto_DB2\\Parte3...\n",
       "8  3EYTVekyY04eqdoi2iGlgJ  C:\\Code\\UTEC\\BD2\\Proyecto2\\Proyecto_DB2\\Parte3...\n",
       "9  4NQQ5fK6qOEMsJNlhjUkIg  C:\\Code\\UTEC\\BD2\\Proyecto2\\Proyecto_DB2\\Parte3..."
      ],
      "text/html": [
       "<div>\n",
       "<style scoped>\n",
       "    .dataframe tbody tr th:only-of-type {\n",
       "        vertical-align: middle;\n",
       "    }\n",
       "\n",
       "    .dataframe tbody tr th {\n",
       "        vertical-align: top;\n",
       "    }\n",
       "\n",
       "    .dataframe thead th {\n",
       "        text-align: right;\n",
       "    }\n",
       "</style>\n",
       "<table border=\"1\" class=\"dataframe\">\n",
       "  <thead>\n",
       "    <tr style=\"text-align: right;\">\n",
       "      <th></th>\n",
       "      <th>track_id</th>\n",
       "      <th>path</th>\n",
       "    </tr>\n",
       "  </thead>\n",
       "  <tbody>\n",
       "    <tr>\n",
       "      <th>0</th>\n",
       "      <td>7pse475uICmWRY5hEkvPvI</td>\n",
       "      <td>C:\\Code\\UTEC\\BD2\\Proyecto2\\Proyecto_DB2\\Parte3...</td>\n",
       "    </tr>\n",
       "    <tr>\n",
       "      <th>1</th>\n",
       "      <td>6AoYWCzsDls6c61Zp5qTuU</td>\n",
       "      <td>C:\\Code\\UTEC\\BD2\\Proyecto2\\Proyecto_DB2\\Parte3...</td>\n",
       "    </tr>\n",
       "    <tr>\n",
       "      <th>2</th>\n",
       "      <td>6QZtmgaUkxWk3Rlq3Upll6</td>\n",
       "      <td>C:\\Code\\UTEC\\BD2\\Proyecto2\\Proyecto_DB2\\Parte3...</td>\n",
       "    </tr>\n",
       "    <tr>\n",
       "      <th>3</th>\n",
       "      <td>1jBmW1fRXgLhy1XwE0SJTN</td>\n",
       "      <td>C:\\Code\\UTEC\\BD2\\Proyecto2\\Proyecto_DB2\\Parte3...</td>\n",
       "    </tr>\n",
       "    <tr>\n",
       "      <th>4</th>\n",
       "      <td>4GYWNXDrG5wWOJteicSy7b</td>\n",
       "      <td>C:\\Code\\UTEC\\BD2\\Proyecto2\\Proyecto_DB2\\Parte3...</td>\n",
       "    </tr>\n",
       "    <tr>\n",
       "      <th>5</th>\n",
       "      <td>4COGASZEbAxmH6k5gYMo6G</td>\n",
       "      <td>C:\\Code\\UTEC\\BD2\\Proyecto2\\Proyecto_DB2\\Parte3...</td>\n",
       "    </tr>\n",
       "    <tr>\n",
       "      <th>6</th>\n",
       "      <td>0r0UDwngm74U5ccMQ9gMBM</td>\n",
       "      <td>C:\\Code\\UTEC\\BD2\\Proyecto2\\Proyecto_DB2\\Parte3...</td>\n",
       "    </tr>\n",
       "    <tr>\n",
       "      <th>7</th>\n",
       "      <td>3Ot04s80MZBhiYP2wHo0is</td>\n",
       "      <td>C:\\Code\\UTEC\\BD2\\Proyecto2\\Proyecto_DB2\\Parte3...</td>\n",
       "    </tr>\n",
       "    <tr>\n",
       "      <th>8</th>\n",
       "      <td>3EYTVekyY04eqdoi2iGlgJ</td>\n",
       "      <td>C:\\Code\\UTEC\\BD2\\Proyecto2\\Proyecto_DB2\\Parte3...</td>\n",
       "    </tr>\n",
       "    <tr>\n",
       "      <th>9</th>\n",
       "      <td>4NQQ5fK6qOEMsJNlhjUkIg</td>\n",
       "      <td>C:\\Code\\UTEC\\BD2\\Proyecto2\\Proyecto_DB2\\Parte3...</td>\n",
       "    </tr>\n",
       "  </tbody>\n",
       "</table>\n",
       "</div>"
      ]
     },
     "execution_count": 2,
     "metadata": {},
     "output_type": "execute_result"
    }
   ],
   "execution_count": 2
  },
  {
   "metadata": {
    "ExecuteTime": {
     "end_time": "2024-11-16T03:42:29.029947Z",
     "start_time": "2024-11-16T03:42:28.537350Z"
    }
   },
   "cell_type": "code",
   "source": [
    "audio_test_path = train_data[\"path\"][7]\n",
    "y, sr = librosa.load(audio_test_path, duration=15)\n",
    "librosa.display.waveshow(y, sr=sr)\n",
    "Audio(data=y, rate=sr)\n",
    "mffc_test = librosa.feature.mfcc(y=y, sr=sr)"
   ],
   "id": "135913ff4294e477",
   "outputs": [
    {
     "data": {
      "text/plain": [
       "<Figure size 640x480 with 1 Axes>"
      ],
      "image/png": "[encoded data removed]"
     },
     "metadata": {},
     "output_type": "display_data"
    }
   ],
   "execution_count": 10
  },
  {
   "metadata": {
    "ExecuteTime": {
     "end_time": "2024-11-16T03:42:29.971867Z",
     "start_time": "2024-11-16T03:42:29.968399Z"
    }
   },
   "cell_type": "code",
   "source": "print(mffc_test.shape)\n",
   "id": "70da27b5abf38452",
   "outputs": [
    {
     "name": "stdout",
     "output_type": "stream",
     "text": [
      "(20, 646)\n"
     ]
    }
   ],
   "execution_count": 11
  },
  {
   "metadata": {},
   "cell_type": "markdown",
   "source": "## Processing",
   "id": "23e85c91dc8e8b75"
  },
  {
   "metadata": {
    "ExecuteTime": {
     "end_time": "2024-11-16T03:43:22.687271Z",
     "start_time": "2024-11-16T03:43:22.682524Z"
    }
   },
   "cell_type": "code",
   "source": [
    "# FIXME: Try with other ways to get the features\n",
    "def getFeatures_measures(paths):\n",
    "    features = []\n",
    "    track_ids = []\n",
    "    counter_audio = 0\n",
    "    # get a vector of vector per audio file\n",
    "    for path in paths:\n",
    "        try:\n",
    "            y, sr = librosa.load(path, duration=15)\n",
    "            # get features\n",
    "            # FIXME: Probar luego con vector de varias metricas como mean, std, etc\n",
    "            # Por ahora se esta probando solo con mfcc\n",
    "            mfccs = librosa.feature.mfcc(y=y, sr=sr)\n",
    "            features.append(mfccs)\n",
    "            # get track id\n",
    "            track_id = path.split(\"\\\\\")[-1].split(\"_\")[-1].split(\".\")[0]\n",
    "            track_ids.append(track_id)\n",
    "            if(counter_audio % 100 == 0):\n",
    "                print(f\"File: {counter_audio}\")\n",
    "        except:\n",
    "            print(f\"Error in file {counter_audio}\") \n",
    "        counter_audio += 1\n",
    "        \n",
    "    return track_ids, features"
   ],
   "id": "b4be0de4926909dd",
   "outputs": [],
   "execution_count": 12
  },
  {
   "metadata": {
    "ExecuteTime": {
     "end_time": "2024-11-16T04:00:14.234792Z",
     "start_time": "2024-11-16T03:43:31.760988Z"
    }
   },
   "cell_type": "code",
   "source": [
    "train_data_paths = np.array(train_data[\"path\"])\n",
    "track_ids, features = getFeatures_measures(train_data_paths)"
   ],
   "id": "49d8d454954e605b",
   "outputs": [
    {
     "name": "stdout",
     "output_type": "stream",
     "text": [
      "File: 0\n",
      "File: 100\n",
      "File: 200\n",
      "File: 300\n",
      "File: 400\n",
      "File: 500\n",
      "File: 600\n",
      "File: 700\n",
      "File: 800\n",
      "File: 900\n",
      "File: 1000\n",
      "File: 1100\n",
      "File: 1200\n",
      "File: 1300\n",
      "File: 1400\n",
      "File: 1500\n",
      "File: 1600\n",
      "File: 1700\n",
      "File: 1800\n",
      "File: 1900\n",
      "File: 2000\n",
      "File: 2100\n",
      "File: 2200\n",
      "File: 2300\n",
      "File: 2400\n",
      "File: 2500\n",
      "File: 2600\n",
      "File: 2700\n",
      "File: 2800\n",
      "File: 2900\n",
      "File: 3000\n",
      "File: 3100\n",
      "File: 3200\n",
      "File: 3300\n",
      "File: 3400\n",
      "File: 3500\n",
      "File: 3600\n",
      "File: 3700\n",
      "File: 3800\n",
      "File: 3900\n",
      "File: 4000\n",
      "File: 4100\n",
      "File: 4200\n",
      "File: 4300\n",
      "File: 4400\n",
      "File: 4500\n",
      "File: 4600\n",
      "File: 4700\n",
      "File: 4800\n",
      "File: 4900\n",
      "File: 5000\n",
      "File: 5100\n",
      "File: 5200\n",
      "File: 5300\n",
      "File: 5400\n",
      "File: 5500\n",
      "File: 5600\n",
      "File: 5700\n",
      "File: 5800\n",
      "File: 5900\n",
      "File: 6000\n",
      "File: 6100\n",
      "File: 6200\n",
      "File: 6300\n",
      "File: 6400\n",
      "File: 6500\n",
      "File: 6600\n",
      "File: 6700\n",
      "File: 6800\n",
      "File: 6900\n",
      "File: 7000\n",
      "File: 7100\n",
      "File: 7200\n",
      "File: 7300\n",
      "File: 7400\n",
      "File: 7500\n",
      "File: 7600\n",
      "File: 7700\n",
      "File: 7800\n",
      "File: 7900\n",
      "File: 8000\n",
      "File: 8100\n",
      "File: 8200\n",
      "File: 8300\n",
      "File: 8400\n",
      "File: 8500\n",
      "File: 8600\n",
      "File: 8700\n",
      "File: 8800\n",
      "File: 8900\n",
      "File: 9000\n",
      "File: 9100\n",
      "File: 9200\n",
      "File: 9300\n",
      "File: 9400\n",
      "File: 9500\n",
      "File: 9600\n",
      "File: 9700\n",
      "File: 9800\n",
      "File: 9900\n",
      "File: 10000\n",
      "File: 10100\n",
      "File: 10200\n",
      "File: 10300\n",
      "File: 10400\n",
      "File: 10500\n",
      "File: 10600\n",
      "File: 10700\n",
      "File: 10800\n",
      "File: 10900\n",
      "File: 11000\n",
      "File: 11100\n",
      "File: 11200\n",
      "File: 11300\n",
      "File: 11400\n",
      "File: 11500\n",
      "File: 11600\n",
      "File: 11700\n",
      "File: 11800\n",
      "File: 11900\n",
      "File: 12000\n"
     ]
    }
   ],
   "execution_count": 13
  },
  {
   "metadata": {
    "ExecuteTime": {
     "end_time": "2024-11-16T04:00:31.792489Z",
     "start_time": "2024-11-16T04:00:31.787604Z"
    }
   },
   "cell_type": "code",
   "source": [
    "# test\n",
    "print(track_ids[0:5])\n",
    "print(features[0:2])\n",
    "\n",
    "print(len(track_ids))\n",
    "print(len(features))\n",
    "print(len(features[0]))\n",
    "print(len(features[0][0]))\n",
    "\n",
    "print(features[0].shape)"
   ],
   "id": "584c305d6a5c3ef5",
   "outputs": [
    {
     "name": "stdout",
     "output_type": "stream",
     "text": [
      "['7pse475uICmWRY5hEkvPvI', '6AoYWCzsDls6c61Zp5qTuU', '6QZtmgaUkxWk3Rlq3Upll6', '1jBmW1fRXgLhy1XwE0SJTN', '4GYWNXDrG5wWOJteicSy7b']\n",
      "[array([[-124.45837   ,  -53.531982  ,  -48.21779   , ...,  -30.638329  ,\n",
      "         -31.604334  ,  -45.731205  ],\n",
      "       [ 131.25378   ,  131.55539   ,  125.097565  , ...,   97.897156  ,\n",
      "          99.54365   ,   99.12096   ],\n",
      "       [ -49.942764  ,  -45.864105  ,  -48.13395   , ...,  -18.328644  ,\n",
      "         -20.286613  ,  -10.049694  ],\n",
      "       ...,\n",
      "       [   0.6375346 ,    6.7834897 ,    5.211746  , ...,   17.06216   ,\n",
      "          10.6366205 ,   -5.449005  ],\n",
      "       [  -6.775588  ,   -6.4606085 ,   -6.9017544 , ...,    8.563374  ,\n",
      "           0.14207727,   -3.4256854 ],\n",
      "       [  -2.3949804 ,    0.21212149,    4.150017  , ...,   17.794884  ,\n",
      "          20.2626    ,   11.229211  ]], dtype=float32), array([[-113.10314   ,  -48.930035  ,  -41.515217  , ..., -111.12258   ,\n",
      "         -70.66685   ,  -46.516426  ],\n",
      "       [  99.608505  ,   99.15825   ,  105.285095  , ...,  112.14053   ,\n",
      "         117.600555  ,  106.80553   ],\n",
      "       [  -4.2685    ,  -14.08806   ,  -22.556694  , ...,  -18.231827  ,\n",
      "         -48.127457  ,  -41.970505  ],\n",
      "       ...,\n",
      "       [ -10.952089  ,   -8.442554  ,   -6.5316644 , ...,    2.9048107 ,\n",
      "           3.150342  ,    1.659347  ],\n",
      "       [   7.6928024 ,    7.815696  ,    3.8880625 , ...,   -5.5895042 ,\n",
      "           0.74115205,   -3.9914637 ],\n",
      "       [  -3.3402252 ,   -6.1457605 ,  -16.388966  , ...,    6.7726774 ,\n",
      "          -2.9955394 ,   -3.6452255 ]], dtype=float32)]\n",
      "12061\n",
      "12061\n",
      "20\n",
      "646\n",
      "(20, 646)\n"
     ]
    }
   ],
   "execution_count": 14
  },
  {
   "metadata": {
    "ExecuteTime": {
     "end_time": "2024-11-16T04:01:07.847284Z",
     "start_time": "2024-11-16T04:01:07.841962Z"
    }
   },
   "cell_type": "code",
   "source": [
    "# test if the dimensions are the same for every file\n",
    "\n",
    "for counter, feature in enumerate(features):\n",
    "    if feature.shape != (20, 646):\n",
    "        features.pop(counter)\n",
    "        track_ids.pop(counter)\n",
    "        print(f\"Error in file {counter}\")\n",
    "print(len(features))\n"
   ],
   "id": "c2395a5b577b308e",
   "outputs": [
    {
     "name": "stdout",
     "output_type": "stream",
     "text": [
      "Error in file 2638\n",
      "Error in file 3304\n",
      "12059\n"
     ]
    }
   ],
   "execution_count": 15
  },
  {
   "metadata": {
    "ExecuteTime": {
     "end_time": "2024-11-16T04:01:34.992976Z",
     "start_time": "2024-11-16T04:01:34.988358Z"
    }
   },
   "cell_type": "code",
   "source": [
    "# Verify if all the features have the same dimensions\n",
    "for feature in features:\n",
    "    if feature.shape != (20, 646):\n",
    "        print(\"Error\")"
   ],
   "id": "46cee8d8aa79853e",
   "outputs": [],
   "execution_count": 16
  },
  {
   "metadata": {
    "ExecuteTime": {
     "end_time": "2024-11-16T04:01:52.572901Z",
     "start_time": "2024-11-16T04:01:51.493617Z"
    }
   },
   "cell_type": "code",
   "source": [
    "# save the data in .pkl\n",
    "with open(\"feature_spotify_15seg.pkl\", \"wb\") as file: \n",
    "    pickle.dump(track_ids, file)\n",
    "    pickle.dump(features, file)\n",
    "    "
   ],
   "id": "7d59ea91edb3997b",
   "outputs": [],
   "execution_count": 17
  },
  {
   "metadata": {
    "ExecuteTime": {
     "end_time": "2024-11-16T04:04:46.112577Z",
     "start_time": "2024-11-16T04:04:45.460684Z"
    }
   },
   "cell_type": "code",
   "source": [
    "# load the data\n",
    "with open(\"feature_spotify_15seg.pkl\", \"rb\") as file:\n",
    "    track_ids = pickle.load(file)\n",
    "    features = pickle.load(file)"
   ],
   "id": "72731d16d695a1f4",
   "outputs": [],
   "execution_count": 19
  },
  {
   "metadata": {
    "ExecuteTime": {
     "end_time": "2024-11-16T04:04:47.766930Z",
     "start_time": "2024-11-16T04:04:47.762250Z"
    }
   },
   "cell_type": "code",
   "source": [
    "# test\n",
    "print(track_ids[0:5])\n",
    "print(features[0:2])\n",
    "\n",
    "print(len(track_ids))\n",
    "print(len(features))"
   ],
   "id": "e5bcf472fbd9c127",
   "outputs": [
    {
     "name": "stdout",
     "output_type": "stream",
     "text": [
      "['7pse475uICmWRY5hEkvPvI', '6AoYWCzsDls6c61Zp5qTuU', '6QZtmgaUkxWk3Rlq3Upll6', '1jBmW1fRXgLhy1XwE0SJTN', '4GYWNXDrG5wWOJteicSy7b']\n",
      "[array([[-124.45837   ,  -53.531982  ,  -48.21779   , ...,  -30.638329  ,\n",
      "         -31.604334  ,  -45.731205  ],\n",
      "       [ 131.25378   ,  131.55539   ,  125.097565  , ...,   97.897156  ,\n",
      "          99.54365   ,   99.12096   ],\n",
      "       [ -49.942764  ,  -45.864105  ,  -48.13395   , ...,  -18.328644  ,\n",
      "         -20.286613  ,  -10.049694  ],\n",
      "       ...,\n",
      "       [   0.6375346 ,    6.7834897 ,    5.211746  , ...,   17.06216   ,\n",
      "          10.6366205 ,   -5.449005  ],\n",
      "       [  -6.775588  ,   -6.4606085 ,   -6.9017544 , ...,    8.563374  ,\n",
      "           0.14207727,   -3.4256854 ],\n",
      "       [  -2.3949804 ,    0.21212149,    4.150017  , ...,   17.794884  ,\n",
      "          20.2626    ,   11.229211  ]], dtype=float32), array([[-113.10314   ,  -48.930035  ,  -41.515217  , ..., -111.12258   ,\n",
      "         -70.66685   ,  -46.516426  ],\n",
      "       [  99.608505  ,   99.15825   ,  105.285095  , ...,  112.14053   ,\n",
      "         117.600555  ,  106.80553   ],\n",
      "       [  -4.2685    ,  -14.08806   ,  -22.556694  , ...,  -18.231827  ,\n",
      "         -48.127457  ,  -41.970505  ],\n",
      "       ...,\n",
      "       [ -10.952089  ,   -8.442554  ,   -6.5316644 , ...,    2.9048107 ,\n",
      "           3.150342  ,    1.659347  ],\n",
      "       [   7.6928024 ,    7.815696  ,    3.8880625 , ...,   -5.5895042 ,\n",
      "           0.74115205,   -3.9914637 ],\n",
      "       [  -3.3402252 ,   -6.1457605 ,  -16.388966  , ...,    6.7726774 ,\n",
      "          -2.9955394 ,   -3.6452255 ]], dtype=float32)]\n",
      "12059\n",
      "12059\n"
     ]
    }
   ],
   "execution_count": 20
  },
  {
   "metadata": {},
   "cell_type": "code",
   "outputs": [],
   "execution_count": null,
   "source": "",
   "id": "d6ee9f351756e7fe"
  }
 ],
 "metadata": {
  "kernelspec": {
   "display_name": "Python 3",
   "language": "python",
   "name": "python3"
  },
  "language_info": {
   "codemirror_mode": {
    "name": "ipython",
    "version": 2
   },
   "file_extension": ".py",
   "mimetype": "text/x-python",
   "name": "python",
   "nbconvert_exporter": "python",
   "pygments_lexer": "ipython2",
   "version": "2.7.6"
  }
 },
 "nbformat": 4,
 "nbformat_minor": 5
}
