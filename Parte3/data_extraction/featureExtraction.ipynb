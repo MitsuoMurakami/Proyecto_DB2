{
 "cells": [
  {
   "metadata": {
    "ExecuteTime": {
     "end_time": "2024-11-14T21:49:40.184423Z",
     "start_time": "2024-11-14T21:49:40.176390Z"
    }
   },
   "cell_type": "code",
   "source": [
    "import pandas as pd\n",
    "import numpy as np\n",
    "import matplotlib.pyplot as plt\n",
    "import seaborn as sns\n",
    "import os\n",
    "import glob\n",
    "import librosa\n",
    "import pickle\n",
    "from IPython.display import Audio"
   ],
   "id": "47a06c5fa5e70c92",
   "outputs": [],
   "execution_count": 1
  },
  {
   "metadata": {},
   "cell_type": "markdown",
   "source": "## Preprocessing",
   "id": "921581045f79ae2a"
  },
  {
   "cell_type": "code",
   "id": "initial_id",
   "metadata": {
    "collapsed": true,
    "ExecuteTime": {
     "end_time": "2024-11-14T21:49:42.354654Z",
     "start_time": "2024-11-14T21:49:42.288555Z"
    }
   },
   "source": [
    "\n",
    "DATASET_PATH = r\"C:\\Code\\UTEC\\BD2\\Proyecto2\\Proyecto_DB2\\Parte3\\data_extraction\\data_previews\"\n",
    "\n",
    "train_data = []\n",
    "for path in glob.iglob(os.path.join(DATASET_PATH, \"*.mp3\")):\n",
    "    video_id = path.split(\"\\\\\")[-1]\n",
    "    video_id = video_id.split(\"_\")[-1]\n",
    "    video_id = video_id.split(\".\")[0]\n",
    "    train_data.append({\"track_id\":video_id, \"path\": path})\n",
    "    \n",
    "    \n",
    "train_data = pd.DataFrame(train_data)\n",
    "train_data.head(10)"
   ],
   "outputs": [
    {
     "data": {
      "text/plain": [
       "                 track_id                                               path\n",
       "0  7pse475uICmWRY5hEkvPvI  C:\\Code\\UTEC\\BD2\\Proyecto2\\Proyecto_DB2\\Parte3...\n",
       "1  6AoYWCzsDls6c61Zp5qTuU  C:\\Code\\UTEC\\BD2\\Proyecto2\\Proyecto_DB2\\Parte3...\n",
       "2  6QZtmgaUkxWk3Rlq3Upll6  C:\\Code\\UTEC\\BD2\\Proyecto2\\Proyecto_DB2\\Parte3...\n",
       "3  1jBmW1fRXgLhy1XwE0SJTN  C:\\Code\\UTEC\\BD2\\Proyecto2\\Proyecto_DB2\\Parte3...\n",
       "4  4GYWNXDrG5wWOJteicSy7b  C:\\Code\\UTEC\\BD2\\Proyecto2\\Proyecto_DB2\\Parte3...\n",
       "5  4COGASZEbAxmH6k5gYMo6G  C:\\Code\\UTEC\\BD2\\Proyecto2\\Proyecto_DB2\\Parte3...\n",
       "6  0r0UDwngm74U5ccMQ9gMBM  C:\\Code\\UTEC\\BD2\\Proyecto2\\Proyecto_DB2\\Parte3...\n",
       "7  3Ot04s80MZBhiYP2wHo0is  C:\\Code\\UTEC\\BD2\\Proyecto2\\Proyecto_DB2\\Parte3...\n",
       "8  3EYTVekyY04eqdoi2iGlgJ  C:\\Code\\UTEC\\BD2\\Proyecto2\\Proyecto_DB2\\Parte3...\n",
       "9  4NQQ5fK6qOEMsJNlhjUkIg  C:\\Code\\UTEC\\BD2\\Proyecto2\\Proyecto_DB2\\Parte3..."
      ],
      "text/html": [
       "<div>\n",
       "<style scoped>\n",
       "    .dataframe tbody tr th:only-of-type {\n",
       "        vertical-align: middle;\n",
       "    }\n",
       "\n",
       "    .dataframe tbody tr th {\n",
       "        vertical-align: top;\n",
       "    }\n",
       "\n",
       "    .dataframe thead th {\n",
       "        text-align: right;\n",
       "    }\n",
       "</style>\n",
       "<table border=\"1\" class=\"dataframe\">\n",
       "  <thead>\n",
       "    <tr style=\"text-align: right;\">\n",
       "      <th></th>\n",
       "      <th>track_id</th>\n",
       "      <th>path</th>\n",
       "    </tr>\n",
       "  </thead>\n",
       "  <tbody>\n",
       "    <tr>\n",
       "      <th>0</th>\n",
       "      <td>7pse475uICmWRY5hEkvPvI</td>\n",
       "      <td>C:\\Code\\UTEC\\BD2\\Proyecto2\\Proyecto_DB2\\Parte3...</td>\n",
       "    </tr>\n",
       "    <tr>\n",
       "      <th>1</th>\n",
       "      <td>6AoYWCzsDls6c61Zp5qTuU</td>\n",
       "      <td>C:\\Code\\UTEC\\BD2\\Proyecto2\\Proyecto_DB2\\Parte3...</td>\n",
       "    </tr>\n",
       "    <tr>\n",
       "      <th>2</th>\n",
       "      <td>6QZtmgaUkxWk3Rlq3Upll6</td>\n",
       "      <td>C:\\Code\\UTEC\\BD2\\Proyecto2\\Proyecto_DB2\\Parte3...</td>\n",
       "    </tr>\n",
       "    <tr>\n",
       "      <th>3</th>\n",
       "      <td>1jBmW1fRXgLhy1XwE0SJTN</td>\n",
       "      <td>C:\\Code\\UTEC\\BD2\\Proyecto2\\Proyecto_DB2\\Parte3...</td>\n",
       "    </tr>\n",
       "    <tr>\n",
       "      <th>4</th>\n",
       "      <td>4GYWNXDrG5wWOJteicSy7b</td>\n",
       "      <td>C:\\Code\\UTEC\\BD2\\Proyecto2\\Proyecto_DB2\\Parte3...</td>\n",
       "    </tr>\n",
       "    <tr>\n",
       "      <th>5</th>\n",
       "      <td>4COGASZEbAxmH6k5gYMo6G</td>\n",
       "      <td>C:\\Code\\UTEC\\BD2\\Proyecto2\\Proyecto_DB2\\Parte3...</td>\n",
       "    </tr>\n",
       "    <tr>\n",
       "      <th>6</th>\n",
       "      <td>0r0UDwngm74U5ccMQ9gMBM</td>\n",
       "      <td>C:\\Code\\UTEC\\BD2\\Proyecto2\\Proyecto_DB2\\Parte3...</td>\n",
       "    </tr>\n",
       "    <tr>\n",
       "      <th>7</th>\n",
       "      <td>3Ot04s80MZBhiYP2wHo0is</td>\n",
       "      <td>C:\\Code\\UTEC\\BD2\\Proyecto2\\Proyecto_DB2\\Parte3...</td>\n",
       "    </tr>\n",
       "    <tr>\n",
       "      <th>8</th>\n",
       "      <td>3EYTVekyY04eqdoi2iGlgJ</td>\n",
       "      <td>C:\\Code\\UTEC\\BD2\\Proyecto2\\Proyecto_DB2\\Parte3...</td>\n",
       "    </tr>\n",
       "    <tr>\n",
       "      <th>9</th>\n",
       "      <td>4NQQ5fK6qOEMsJNlhjUkIg</td>\n",
       "      <td>C:\\Code\\UTEC\\BD2\\Proyecto2\\Proyecto_DB2\\Parte3...</td>\n",
       "    </tr>\n",
       "  </tbody>\n",
       "</table>\n",
       "</div>"
      ]
     },
     "execution_count": 2,
     "metadata": {},
     "output_type": "execute_result"
    }
   ],
   "execution_count": 2
  },
  {
   "metadata": {
    "ExecuteTime": {
     "end_time": "2024-11-14T21:49:48.318935Z",
     "start_time": "2024-11-14T21:49:46.976392Z"
    }
   },
   "cell_type": "code",
   "source": [
    "audio_test_path = train_data[\"path\"][7]\n",
    "y, sr = librosa.load(audio_test_path, duration=5)\n",
    "librosa.display.waveshow(y, sr=sr)\n",
    "Audio(data=y, rate=sr)\n",
    "mffc_test = librosa.feature.mfcc(y=y, sr=sr)"
   ],
   "id": "135913ff4294e477",
   "outputs": [
    {
     "data": {
      "text/plain": [
       "<Figure size 640x480 with 1 Axes>"
      ],
      "image/png": "[encoded data removed]"
     },
     "metadata": {},
     "output_type": "display_data"
    }
   ],
   "execution_count": 3
  },
  {
   "metadata": {
    "ExecuteTime": {
     "end_time": "2024-11-14T21:49:52.939170Z",
     "start_time": "2024-11-14T21:49:52.921361Z"
    }
   },
   "cell_type": "code",
   "source": "print(mffc_test.shape)\n",
   "id": "70da27b5abf38452",
   "outputs": [
    {
     "name": "stdout",
     "output_type": "stream",
     "text": [
      "(20, 216)\n"
     ]
    }
   ],
   "execution_count": 4
  },
  {
   "metadata": {},
   "cell_type": "markdown",
   "source": "## Processing",
   "id": "23e85c91dc8e8b75"
  },
  {
   "metadata": {
    "ExecuteTime": {
     "end_time": "2024-11-14T21:50:09.184003Z",
     "start_time": "2024-11-14T21:50:09.165861Z"
    }
   },
   "cell_type": "code",
   "source": [
    "# FIXME: Try with other ways to get the features\n",
    "def getFeatures_measures(paths):\n",
    "    features = []\n",
    "    track_ids = []\n",
    "    counter_audio = 0\n",
    "    # get a vector of vector per audio file\n",
    "    for path in paths:\n",
    "        try:\n",
    "            y, sr = librosa.load(path, duration=5)\n",
    "            # get features\n",
    "            # FIXME: Probar luego con vector de varias metricas como mean, std, etc\n",
    "            # Por ahora se esta probando solo con mfcc\n",
    "            mfccs = librosa.feature.mfcc(y=y, sr=sr)\n",
    "            features.append(mfccs)\n",
    "            # get track id\n",
    "            track_id = path.split(\"\\\\\")[-1].split(\"_\")[-1].split(\".\")[0]\n",
    "            track_ids.append(track_id)\n",
    "            if(counter_audio % 100 == 0):\n",
    "                print(f\"File: {counter_audio}\")\n",
    "        except:\n",
    "            print(f\"Error in file {counter_audio}\") \n",
    "        counter_audio += 1\n",
    "        \n",
    "    return track_ids, features"
   ],
   "id": "b4be0de4926909dd",
   "outputs": [],
   "execution_count": 5
  },
  {
   "metadata": {
    "ExecuteTime": {
     "end_time": "2024-11-14T22:00:42.476145Z",
     "start_time": "2024-11-14T21:50:12.090821Z"
    }
   },
   "cell_type": "code",
   "source": [
    "train_data_paths = np.array(train_data[\"path\"])\n",
    "track_ids, features = getFeatures_measures(train_data_paths)"
   ],
   "id": "49d8d454954e605b",
   "outputs": [
    {
     "name": "stdout",
     "output_type": "stream",
     "text": [
      "File: 0\n",
      "File: 100\n",
      "File: 200\n",
      "File: 300\n",
      "File: 400\n",
      "File: 500\n",
      "File: 600\n",
      "File: 700\n",
      "File: 800\n",
      "File: 900\n",
      "File: 1000\n",
      "File: 1100\n",
      "File: 1200\n",
      "File: 1300\n",
      "File: 1400\n",
      "File: 1500\n",
      "File: 1600\n",
      "File: 1700\n",
      "File: 1800\n",
      "File: 1900\n",
      "File: 2000\n",
      "File: 2100\n",
      "File: 2200\n",
      "File: 2300\n",
      "File: 2400\n",
      "File: 2500\n",
      "File: 2600\n",
      "File: 2700\n",
      "File: 2800\n",
      "File: 2900\n",
      "File: 3000\n",
      "File: 3100\n",
      "File: 3200\n",
      "File: 3300\n",
      "File: 3400\n",
      "File: 3500\n",
      "File: 3600\n",
      "File: 3700\n",
      "File: 3800\n",
      "File: 3900\n",
      "File: 4000\n",
      "File: 4100\n",
      "File: 4200\n",
      "File: 4300\n",
      "File: 4400\n",
      "File: 4500\n",
      "File: 4600\n",
      "File: 4700\n",
      "File: 4800\n",
      "File: 4900\n",
      "File: 5000\n",
      "File: 5100\n",
      "File: 5200\n",
      "File: 5300\n",
      "File: 5400\n",
      "File: 5500\n",
      "File: 5600\n",
      "File: 5700\n",
      "File: 5800\n",
      "File: 5900\n",
      "File: 6000\n",
      "File: 6100\n",
      "File: 6200\n",
      "File: 6300\n",
      "File: 6400\n",
      "File: 6500\n",
      "File: 6600\n",
      "File: 6700\n",
      "File: 6800\n",
      "File: 6900\n",
      "File: 7000\n",
      "File: 7100\n",
      "File: 7200\n",
      "File: 7300\n",
      "File: 7400\n",
      "File: 7500\n",
      "File: 7600\n",
      "File: 7700\n",
      "File: 7800\n",
      "File: 7900\n",
      "File: 8000\n",
      "File: 8100\n",
      "File: 8200\n",
      "File: 8300\n",
      "File: 8400\n",
      "File: 8500\n",
      "File: 8600\n",
      "File: 8700\n",
      "File: 8800\n",
      "File: 8900\n",
      "File: 9000\n",
      "File: 9100\n",
      "File: 9200\n",
      "File: 9300\n",
      "File: 9400\n",
      "File: 9500\n",
      "File: 9600\n",
      "File: 9700\n",
      "File: 9800\n",
      "File: 9900\n",
      "File: 10000\n",
      "File: 10100\n",
      "File: 10200\n",
      "File: 10300\n",
      "File: 10400\n",
      "File: 10500\n",
      "File: 10600\n",
      "File: 10700\n",
      "File: 10800\n",
      "File: 10900\n",
      "File: 11000\n",
      "File: 11100\n",
      "File: 11200\n",
      "File: 11300\n",
      "File: 11400\n",
      "File: 11500\n",
      "File: 11600\n",
      "File: 11700\n",
      "File: 11800\n",
      "File: 11900\n",
      "File: 12000\n"
     ]
    }
   ],
   "execution_count": 6
  },
  {
   "metadata": {
    "ExecuteTime": {
     "end_time": "2024-11-14T22:00:53.514116Z",
     "start_time": "2024-11-14T22:00:53.509127Z"
    }
   },
   "cell_type": "code",
   "source": [
    "# test\n",
    "print(track_ids[0:5])\n",
    "print(features[0:2])\n",
    "\n",
    "print(len(track_ids))\n",
    "print(len(features))\n",
    "print(len(features[0]))\n",
    "print(len(features[0][0]))\n",
    "\n",
    "print(features[0].shape)"
   ],
   "id": "584c305d6a5c3ef5",
   "outputs": [
    {
     "name": "stdout",
     "output_type": "stream",
     "text": [
      "['7pse475uICmWRY5hEkvPvI', '6AoYWCzsDls6c61Zp5qTuU', '6QZtmgaUkxWk3Rlq3Upll6', '1jBmW1fRXgLhy1XwE0SJTN', '4GYWNXDrG5wWOJteicSy7b']\n",
      "[array([[-1.24458366e+02, -5.35319824e+01, -4.82177887e+01, ...,\n",
      "        -2.33351192e+01, -2.46008682e+01, -2.58477707e+01],\n",
      "       [ 1.31253784e+02,  1.31555389e+02,  1.25097565e+02, ...,\n",
      "         1.12142929e+02,  9.85629730e+01,  9.18379974e+01],\n",
      "       [-4.99427643e+01, -4.58641052e+01, -4.81339493e+01, ...,\n",
      "         5.96944988e-02, -4.54313135e+00, -1.36644688e+01],\n",
      "       ...,\n",
      "       [ 6.37534618e-01,  6.78348970e+00,  5.21174622e+00, ...,\n",
      "        -5.58464718e+00, -4.19705200e+00, -7.74638128e+00],\n",
      "       [-6.77558804e+00, -6.46060848e+00, -6.90175438e+00, ...,\n",
      "        -6.90769482e+00, -1.38357925e+01, -1.29718580e+01],\n",
      "       [-2.39498043e+00,  2.12121487e-01,  4.15001678e+00, ...,\n",
      "         1.44217691e+01,  1.22430010e+01,  7.40419006e+00]], dtype=float32), array([[-113.389885 ,  -49.002373 ,  -41.515217 , ...,  -59.809456 ,\n",
      "         -72.414406 ,  -65.14605  ],\n",
      "       [ 100.01399  ,   99.260544 ,  105.285095 , ...,  136.74756  ,\n",
      "         134.65767  ,  125.13199  ],\n",
      "       [  -4.6738954,  -14.1903305,  -22.556694 , ...,   30.577377 ,\n",
      "          31.59816  ,   17.994032 ],\n",
      "       ...,\n",
      "       [ -10.555365 ,   -8.342468 ,   -6.5316644, ...,  -17.874111 ,\n",
      "         -17.710777 ,  -15.488444 ],\n",
      "       [   7.297138 ,    7.7158794,    3.8880625, ...,    3.9355855,\n",
      "          13.063311 ,    7.819042 ],\n",
      "       [  -2.9456813,   -6.0462265,  -16.388966 , ...,   -2.8040771,\n",
      "          -6.7779765,   -4.04455  ]], dtype=float32)]\n",
      "12061\n",
      "12061\n",
      "20\n",
      "216\n",
      "(20, 216)\n"
     ]
    }
   ],
   "execution_count": 7
  },
  {
   "metadata": {
    "ExecuteTime": {
     "end_time": "2024-11-14T22:01:26.032632Z",
     "start_time": "2024-11-14T22:01:26.018573Z"
    }
   },
   "cell_type": "code",
   "source": [
    "# test if the dimensions are the same for every file\n",
    "\n",
    "for counter, feature in enumerate(features):\n",
    "    if feature.shape != (20, 216):\n",
    "        features.pop(counter)\n",
    "        track_ids.pop(counter)\n",
    "print(len(features))\n"
   ],
   "id": "c2395a5b577b308e",
   "outputs": [
    {
     "name": "stdout",
     "output_type": "stream",
     "text": [
      "12061\n"
     ]
    }
   ],
   "execution_count": 8
  },
  {
   "metadata": {
    "ExecuteTime": {
     "end_time": "2024-11-14T22:01:38.733882Z",
     "start_time": "2024-11-14T22:01:38.383656Z"
    }
   },
   "cell_type": "code",
   "source": [
    "# save the data in .pkl\n",
    "with open(\"feature_spotify_10seg.pkl\", \"wb\") as file: \n",
    "    pickle.dump(track_ids, file)\n",
    "    pickle.dump(features, file)\n",
    "    "
   ],
   "id": "7d59ea91edb3997b",
   "outputs": [],
   "execution_count": 9
  },
  {
   "metadata": {
    "ExecuteTime": {
     "end_time": "2024-11-14T22:01:53.469914Z",
     "start_time": "2024-11-14T22:01:53.223075Z"
    }
   },
   "cell_type": "code",
   "source": [
    "# load the data\n",
    "with open(\"feature_spotify_10seg.pkl\", \"rb\") as file:\n",
    "    track_ids = pickle.load(file)\n",
    "    features = pickle.load(file)"
   ],
   "id": "72731d16d695a1f4",
   "outputs": [],
   "execution_count": 10
  },
  {
   "metadata": {
    "ExecuteTime": {
     "end_time": "2024-11-14T22:01:55.414121Z",
     "start_time": "2024-11-14T22:01:55.409933Z"
    }
   },
   "cell_type": "code",
   "source": [
    "# test\n",
    "print(track_ids[0:5])\n",
    "print(features[0:2])\n",
    "\n",
    "print(len(track_ids))\n",
    "print(len(features))"
   ],
   "id": "e5bcf472fbd9c127",
   "outputs": [
    {
     "name": "stdout",
     "output_type": "stream",
     "text": [
      "['7pse475uICmWRY5hEkvPvI', '6AoYWCzsDls6c61Zp5qTuU', '6QZtmgaUkxWk3Rlq3Upll6', '1jBmW1fRXgLhy1XwE0SJTN', '4GYWNXDrG5wWOJteicSy7b']\n",
      "[array([[-1.24458366e+02, -5.35319824e+01, -4.82177887e+01, ...,\n",
      "        -2.33351192e+01, -2.46008682e+01, -2.58477707e+01],\n",
      "       [ 1.31253784e+02,  1.31555389e+02,  1.25097565e+02, ...,\n",
      "         1.12142929e+02,  9.85629730e+01,  9.18379974e+01],\n",
      "       [-4.99427643e+01, -4.58641052e+01, -4.81339493e+01, ...,\n",
      "         5.96944988e-02, -4.54313135e+00, -1.36644688e+01],\n",
      "       ...,\n",
      "       [ 6.37534618e-01,  6.78348970e+00,  5.21174622e+00, ...,\n",
      "        -5.58464718e+00, -4.19705200e+00, -7.74638128e+00],\n",
      "       [-6.77558804e+00, -6.46060848e+00, -6.90175438e+00, ...,\n",
      "        -6.90769482e+00, -1.38357925e+01, -1.29718580e+01],\n",
      "       [-2.39498043e+00,  2.12121487e-01,  4.15001678e+00, ...,\n",
      "         1.44217691e+01,  1.22430010e+01,  7.40419006e+00]], dtype=float32), array([[-113.389885 ,  -49.002373 ,  -41.515217 , ...,  -59.809456 ,\n",
      "         -72.414406 ,  -65.14605  ],\n",
      "       [ 100.01399  ,   99.260544 ,  105.285095 , ...,  136.74756  ,\n",
      "         134.65767  ,  125.13199  ],\n",
      "       [  -4.6738954,  -14.1903305,  -22.556694 , ...,   30.577377 ,\n",
      "          31.59816  ,   17.994032 ],\n",
      "       ...,\n",
      "       [ -10.555365 ,   -8.342468 ,   -6.5316644, ...,  -17.874111 ,\n",
      "         -17.710777 ,  -15.488444 ],\n",
      "       [   7.297138 ,    7.7158794,    3.8880625, ...,    3.9355855,\n",
      "          13.063311 ,    7.819042 ],\n",
      "       [  -2.9456813,   -6.0462265,  -16.388966 , ...,   -2.8040771,\n",
      "          -6.7779765,   -4.04455  ]], dtype=float32)]\n",
      "12061\n",
      "12061\n"
     ]
    }
   ],
   "execution_count": 11
  },
  {
   "metadata": {},
   "cell_type": "code",
   "outputs": [],
   "execution_count": null,
   "source": "",
   "id": "d6ee9f351756e7fe"
  }
 ],
 "metadata": {
  "kernelspec": {
   "display_name": "Python 3",
   "language": "python",
   "name": "python3"
  },
  "language_info": {
   "codemirror_mode": {
    "name": "ipython",
    "version": 2
   },
   "file_extension": ".py",
   "mimetype": "text/x-python",
   "name": "python",
   "nbconvert_exporter": "python",
   "pygments_lexer": "ipython2",
   "version": "2.7.6"
  }
 },
 "nbformat": 4,
 "nbformat_minor": 5
}
