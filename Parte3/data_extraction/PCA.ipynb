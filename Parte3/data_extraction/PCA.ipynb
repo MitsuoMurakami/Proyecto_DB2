{
 "cells": [
  {
   "cell_type": "code",
   "execution_count": 26,
   "metadata": {},
   "outputs": [],
   "source": [
    "import pickle\n",
    "import pandas as pd\n",
    "import numpy as np\n",
    "from sklearn.decomposition import PCA\n",
    "import matplotlib.pyplot as plt"
   ]
  },
  {
   "cell_type": "code",
   "execution_count": null,
   "metadata": {},
   "outputs": [],
   "source": [
    "# load the data\n",
    "with open(\"feature_spotify_15seg.pkl\", \"rb\") as file:\n",
    "    track_ids = pickle.load(file)\n",
    "    features = pickle.load(file)"
   ]
  },
  {
   "cell_type": "code",
   "execution_count": 22,
   "metadata": {},
   "outputs": [
    {
     "name": "stdout",
     "output_type": "stream",
     "text": [
      "12059\n",
      "12059\n",
      "20\n",
      "646\n",
      "(20, 646)\n"
     ]
    }
   ],
   "source": [
    "# test\n",
    "\n",
    "print(len(track_ids))\n",
    "print(len(features))\n",
    "print(len(features[0]))\n",
    "print(len(features[0][0]))\n",
    "\n",
    "print(features[0].shape)"
   ]
  },
  {
   "cell_type": "code",
   "execution_count": 27,
   "metadata": {},
   "outputs": [],
   "source": [
    "# Asegurarse de que las características están en una matriz 2D\n",
    "features = np.array(features)  # Convierte a numpy si es necesario\n",
    "if len(features.shape) == 3:  # Si hay múltiples matrices, las aplanamos\n",
    "    features = features.reshape(features.shape[0], -1)\n"
   ]
  },
  {
   "cell_type": "code",
   "execution_count": null,
   "metadata": {},
   "outputs": [],
   "source": [
    "# Aplicar PCA\n",
    "pca = PCA()\n",
    "pca.fit(features)\n",
    "\n",
    "# Determinar el número mínimo de componentes que explican al menos el 90% de la varianza\n",
    "explained_variance_ratio = np.cumsum(pca.explained_variance_ratio_)\n",
    "n_components_90 = np.argmax(explained_variance_ratio >= 0.9) + 1\n",
    "print(f\"Número de componentes para el 90% de la varianza: {n_components_90}\")\n",
    "\n",
    "# Graficar la varianza explicada\n",
    "plt.figure(figsize=(10, 6))\n",
    "plt.plot(explained_variance_ratio, marker=\"o\")\n",
    "plt.axhline(y=0.9, color=\"r\", linestyle=\"--\", label=\"90% de varianza explicada\")\n",
    "plt.axvline(x=n_components_90 - 1, color=\"g\", linestyle=\"--\", label=f\"{n_components_90} componentes\")\n",
    "plt.title(\"Proporción de varianza explicada acumulativa\")\n",
    "plt.xlabel(\"Número de componentes\")\n",
    "plt.ylabel(\"Proporción de varianza explicada\")\n",
    "plt.legend()\n",
    "plt.grid()\n",
    "plt.show()\n",
    "\n",
    "# Reducir las características a las componentes principales necesarias\n",
    "pca = PCA(n_components=n_components_90)\n",
    "features_reduced = pca.fit_transform(features)"
   ]
  }
 ],
 "metadata": {
  "kernelspec": {
   "display_name": "base",
   "language": "python",
   "name": "python3"
  },
  "language_info": {
   "codemirror_mode": {
    "name": "ipython",
    "version": 3
   },
   "file_extension": ".py",
   "mimetype": "text/x-python",
   "name": "python",
   "nbconvert_exporter": "python",
   "pygments_lexer": "ipython3",
   "version": "3.11.7"
  }
 },
 "nbformat": 4,
 "nbformat_minor": 2
}
