{
 "cells": [
  {
   "cell_type": "code",
   "metadata": {
    "ExecuteTime": {
     "end_time": "2024-11-18T21:13:02.255204Z",
     "start_time": "2024-11-18T21:13:02.078246Z"
    }
   },
   "source": [
    "import pickle\n",
    "import pandas as pd\n",
    "import numpy as np\n",
    "from sklearn.decomposition import PCA\n",
    "import matplotlib.pyplot as plt"
   ],
   "outputs": [],
   "execution_count": 1
  },
  {
   "cell_type": "code",
   "metadata": {
    "ExecuteTime": {
     "end_time": "2024-11-19T05:21:16.980532Z",
     "start_time": "2024-11-19T05:21:15.934775Z"
    }
   },
   "source": [
    "# load feature vectors of songs from Spotify that last 30 seconds\n",
    "with open(\"feature_spotify.pkl\", \"rb\") as file:\n",
    "    track_ids = pickle.load(file)\n",
    "    features = pickle.load(file)"
   ],
   "outputs": [],
   "execution_count": 73
  },
  {
   "metadata": {
    "ExecuteTime": {
     "end_time": "2024-11-19T05:21:17.751597Z",
     "start_time": "2024-11-19T05:21:17.747276Z"
    }
   },
   "cell_type": "code",
   "source": [
    "# dimensions\n",
    "print(\"Samples\", len(track_ids))\n",
    "print(\"Features\", len(features))\n",
    "print(\"Local descriptors\", len(features[0]))\n",
    "print(\"Dimension of local descriptor\", len(features[0][0]))\n",
    "\n"
   ],
   "outputs": [
    {
     "name": "stdout",
     "output_type": "stream",
     "text": [
      "Samples 11903\n",
      "Features 11903\n",
      "Local descriptors 20\n",
      "Dimension of local descriptor 1280\n"
     ]
    }
   ],
   "execution_count": 74
  },
  {
   "metadata": {
    "ExecuteTime": {
     "end_time": "2024-11-19T05:21:19.754715Z",
     "start_time": "2024-11-19T05:21:19.749620Z"
    }
   },
   "cell_type": "code",
   "source": [
    "# verify if all the feature vectors have the same dimensions\n",
    "for i, feature in enumerate(features):\n",
    "    if feature.shape != (20, 1280):\n",
    "        print(f\"Dimension of song {track_ids[i]} is {feature.shape} \")"
   ],
   "outputs": [
    {
     "name": "stdout",
     "output_type": "stream",
     "text": [
      "Dimension of song 6L9E5ONm7Mv8lraV53UR3X is (20, 920) \n",
      "Dimension of song 5kHiHWLcbsvTDtmHxBiaID is (20, 683) \n",
      "Dimension of song 01Bw3xiZ5PQfn0btMWICaQ is (20, 689) \n",
      "Dimension of song 6Ik9aiuaoEYxsEKGdQaEJB is (20, 1111) \n",
      "Dimension of song 7IKIOZ5xbzdFGQ2y7Tu0Wq is (20, 690) \n",
      "Dimension of song 6Na3LJmy6qmjK1SYzUhmZ6 is (20, 1278) \n",
      "Dimension of song 1wjzFQodRWrPcQ0AnYnvQ9 is (20, 897) \n",
      "Dimension of song 2tUBqZG2AbRi7Q0BIrVrEj is (20, 696) \n",
      "Dimension of song 3N4tKKBTxNI8OQIZbpS3u6 is (20, 799) \n",
      "Dimension of song 5AiNxLZufMUfR6ADAxxqOe is (20, 985) \n",
      "Dimension of song 7ssEhls1ZYEGtBsoovkMSe is (20, 1081) \n",
      "Dimension of song 5fqt5nfPEgbOuIajbZmkBv is (20, 1052) \n",
      "Dimension of song 6fYRgMy5JyRtCCupQK5j0E is (20, 657) \n",
      "Dimension of song 4HCsKNye8SYImpwXnurwmN is (20, 919) \n",
      "Dimension of song 23YEpFgAVvr0w3cDm7EQ1Q is (20, 920) \n",
      "Dimension of song 5kZRoc6Gz7u5eu4a0YM2LS is (20, 678) \n",
      "Dimension of song 1AlcpxsgzYwAJ1SfMPPWU4 is (20, 1034) \n",
      "Dimension of song 3kxfsdsCpFgN412fpnW85Y is (20, 1034) \n",
      "Dimension of song 2pE0CMK1fE3mfU0eEOHhKw is (20, 951) \n",
      "Dimension of song 1Xi28qSSoARTXiqMwb8Srg is (20, 823) \n"
     ]
    }
   ],
   "execution_count": 75
  },
  {
   "metadata": {
    "ExecuteTime": {
     "end_time": "2024-11-19T05:21:21.465115Z",
     "start_time": "2024-11-19T05:21:21.454118Z"
    }
   },
   "cell_type": "code",
   "source": [
    "# delete the feature vectors that have different dimensions\n",
    "preserved_indexes = [i for i, feature in enumerate(features)  if feature.shape == (20, 1280) ]\n",
    "features = [features[i] for i in preserved_indexes]\n",
    "track_ids = [track_ids[i] for i in preserved_indexes]\n",
    "print(len(features))\n",
    "print(len(track_ids))"
   ],
   "outputs": [
    {
     "name": "stdout",
     "output_type": "stream",
     "text": [
      "11883\n",
      "11883\n"
     ]
    }
   ],
   "execution_count": 76
  },
  {
   "metadata": {},
   "cell_type": "markdown",
   "source": "# 1. Apply one PCA to all data"
  },
  {
   "metadata": {
    "ExecuteTime": {
     "end_time": "2024-11-19T04:24:55.819172Z",
     "start_time": "2024-11-19T04:24:55.191059Z"
    }
   },
   "cell_type": "code",
   "source": [
    "# collect all feature vectors of each song in a list\n",
    "big_features = []\n",
    "for feature in features:\n",
    "    for ls in feature:\n",
    "        big_features.append(ls)\n",
    "\n",
    "big_features = np.array(big_features)\n"
   ],
   "outputs": [],
   "execution_count": 51
  },
  {
   "metadata": {
    "ExecuteTime": {
     "end_time": "2024-11-19T05:16:31.103880Z",
     "start_time": "2024-11-19T05:16:21.688937Z"
    }
   },
   "cell_type": "code",
   "source": [
    "# normalize\n",
    "big_features = (big_features - np.min(big_features, axis=0)) / (np.max(big_features, axis=0) - np.min(big_features, axis=0))"
   ],
   "outputs": [],
   "execution_count": 65
  },
  {
   "metadata": {
    "ExecuteTime": {
     "end_time": "2024-11-19T05:17:43.380509Z",
     "start_time": "2024-11-19T05:17:43.375310Z"
    }
   },
   "cell_type": "code",
   "source": "print(big_features.shape)",
   "outputs": [
    {
     "name": "stdout",
     "output_type": "stream",
     "text": [
      "(237660, 1280)\n"
     ]
    }
   ],
   "execution_count": 68
  },
  {
   "metadata": {
    "ExecuteTime": {
     "end_time": "2024-11-19T05:18:05.254383Z",
     "start_time": "2024-11-19T05:17:48.501605Z"
    }
   },
   "cell_type": "code",
   "source": [
    "\"\"\" \n",
    "Apply PCA to all of the feature vectors, the n_components by default is min(n_samples, n_features) - 1 (20)\n",
    "\"\"\"\n",
    "\n",
    "pca = PCA()\n",
    "pca.fit(big_features)\n",
    "# Accumulated sum that explain the variance by the number of components\n",
    "explained_variance_ratio = np.cumsum(pca.explained_variance_ratio_)\n",
    "# Compute the number of components that explain 90% of the variance\n",
    "n_components_above_90 = np.argmax(explained_variance_ratio >= 0.9) + 1\n",
    "print(n_components_above_90)\n",
    "\n"
   ],
   "outputs": [
    {
     "name": "stdout",
     "output_type": "stream",
     "text": [
      "154\n"
     ]
    }
   ],
   "execution_count": 69
  },
  {
   "metadata": {
    "ExecuteTime": {
     "end_time": "2024-11-19T05:18:43.492966Z",
     "start_time": "2024-11-19T05:18:36.533953Z"
    }
   },
   "cell_type": "code",
   "source": [
    "# Apply the number of components that explain 90% of the variance \n",
    "pca = PCA(n_components=n_components_above_90)\n",
    "features_pca = pca.fit_transform(big_features)\n",
    "print(features_pca.shape)\n"
   ],
   "outputs": [
    {
     "name": "stdout",
     "output_type": "stream",
     "text": [
      "(237660, 154)\n"
     ]
    }
   ],
   "execution_count": 70
  },
  {
   "cell_type": "code",
   "metadata": {
    "ExecuteTime": {
     "end_time": "2024-11-19T05:18:45.496716Z",
     "start_time": "2024-11-19T05:18:45.238708Z"
    }
   },
   "source": [
    "#Grafico\n",
    "plt.figure(figsize=(10, 6))\n",
    "plt.plot(explained_variance_ratio, marker=\"o\")\n",
    "plt.axhline(y=0.9, color=\"r\", linestyle=\"--\", label=\"90% de varianza explicada\")\n",
    "plt.axvline(x=n_components_above_90 - 1, color=\"g\", linestyle=\"--\", label=f\"{n_components_above_90} componentes\")\n",
    "plt.title(\"% de varianza explicada segun el número de componentes en PCA\")\n",
    "plt.xlabel(\"Número de componentes\")\n",
    "plt.ylabel(\"% varianza explicada\")\n",
    "plt.legend()\n",
    "plt.grid()\n",
    "plt.show()\n"
   ],
   "outputs": [
    {
     "data": {
      "text/plain": [
       "<Figure size 1000x600 with 1 Axes>"
      ],
      "image/png": "[encoded data removed]"
     },
     "metadata": {},
     "output_type": "display_data"
    }
   ],
   "execution_count": 71
  },
  {
   "metadata": {
    "ExecuteTime": {
     "end_time": "2024-11-19T05:18:50.220593Z",
     "start_time": "2024-11-19T05:18:50.043865Z"
    }
   },
   "cell_type": "code",
   "source": [
    "# save the pca features\n",
    "\"\"\" \n",
    "IMPORTANT: the order of the track_ids is the same as the order of the features. The features_pca has 20 times the\n",
    "number of track_ids, it happens bc the feature vectors of each song have 20 local descriptors, so i just\n",
    "appended all the local descriptors of each song in a list.\n",
    "To recover the feature vectors of a song, you only have to take 20 elements of the features_pca according to the index\n",
    "\"\"\"\n",
    "with open(\"pca_features.pkl\", \"wb\") as file:\n",
    "    pickle.dump(track_ids, file)\n",
    "    pickle.dump(features_pca, file)"
   ],
   "outputs": [],
   "execution_count": 72
  },
  {
   "metadata": {},
   "cell_type": "code",
   "outputs": [],
   "execution_count": null,
   "source": [
    "# load the pkl\n",
    "with open(\"pca_features.pkl\", \"rb\") as file:\n",
    "    track_ids = pickle.load(file)\n",
    "    features_pca = pickle.load(file)"
   ]
  },
  {
   "metadata": {},
   "cell_type": "markdown",
   "source": "# 2. Apply PCA to each descriptor"
  },
  {
   "metadata": {
    "ExecuteTime": {
     "end_time": "2024-11-19T05:21:26.985829Z",
     "start_time": "2024-11-19T05:21:26.488210Z"
    }
   },
   "cell_type": "code",
   "source": [
    "# Apply PCA to each local descriptor of each song, collect the features in 20 lists\n",
    "features_local = []\n",
    "# divide the feature vectors of each song in 20 lists, each for a local descriptor\n",
    "for i in range(20):\n",
    "    features_temp = []\n",
    "    for feature in features:\n",
    "        features_temp.append(feature[i])\n",
    "    features_local.append(features_temp)\n",
    "features_local = np.array(features_local)\n",
    "    \n",
    "    \n",
    "        "
   ],
   "outputs": [],
   "execution_count": 77
  },
  {
   "metadata": {
    "ExecuteTime": {
     "end_time": "2024-11-19T05:21:30.438722Z",
     "start_time": "2024-11-19T05:21:29.348715Z"
    }
   },
   "cell_type": "code",
   "source": [
    "# normalize\n",
    "for i in range(len(features_local)):\n",
    "    features_local[i] = (features_local[i] - np.min(features_local[i], axis=0)) / (np.max(features_local[i], axis=0) - np.min(features_local[i], axis=0))"
   ],
   "outputs": [],
   "execution_count": 78
  },
  {
   "metadata": {
    "ExecuteTime": {
     "end_time": "2024-11-19T05:21:33.974384Z",
     "start_time": "2024-11-19T05:21:33.968044Z"
    }
   },
   "cell_type": "code",
   "source": "print(features_local.shape)",
   "outputs": [
    {
     "name": "stdout",
     "output_type": "stream",
     "text": [
      "(20, 11883, 1280)\n"
     ]
    }
   ],
   "execution_count": 79
  },
  {
   "metadata": {
    "ExecuteTime": {
     "end_time": "2024-11-19T05:22:32.371592Z",
     "start_time": "2024-11-19T05:21:39.612350Z"
    }
   },
   "cell_type": "code",
   "source": [
    "# Apply PCA to each of the 20 local descriptor by mfccs\n",
    "features_local_pca = []\n",
    "for feature_local in features_local:\n",
    "    pca = PCA()\n",
    "    pca.fit(feature_local)\n",
    "    explained_variance_ratio = np.cumsum(pca.explained_variance_ratio_)\n",
    "    n_components_above_90 = np.argmax(explained_variance_ratio >= 0.9) + 1\n",
    "    \n",
    "    pca = PCA(n_components=n_components_above_90)\n",
    "    features_pca_transform = pca.fit_transform(feature_local)\n",
    "    features_local_pca.append(features_pca_transform)\n",
    "    print(\"Dimension of local descriptor\", features_pca_transform.shape)"
   ],
   "outputs": [
    {
     "name": "stdout",
     "output_type": "stream",
     "text": [
      "Dimension of local descriptor (11883, 222)\n",
      "Dimension of local descriptor (11883, 257)\n",
      "Dimension of local descriptor (11883, 257)\n",
      "Dimension of local descriptor (11883, 256)\n",
      "Dimension of local descriptor (11883, 274)\n",
      "Dimension of local descriptor (11883, 284)\n",
      "Dimension of local descriptor (11883, 295)\n",
      "Dimension of local descriptor (11883, 301)\n",
      "Dimension of local descriptor (11883, 308)\n",
      "Dimension of local descriptor (11883, 317)\n",
      "Dimension of local descriptor (11883, 322)\n",
      "Dimension of local descriptor (11883, 333)\n",
      "Dimension of local descriptor (11883, 338)\n",
      "Dimension of local descriptor (11883, 343)\n",
      "Dimension of local descriptor (11883, 349)\n",
      "Dimension of local descriptor (11883, 347)\n",
      "Dimension of local descriptor (11883, 347)\n",
      "Dimension of local descriptor (11883, 355)\n",
      "Dimension of local descriptor (11883, 351)\n",
      "Dimension of local descriptor (11883, 348)\n"
     ]
    }
   ],
   "execution_count": 80
  },
  {
   "metadata": {},
   "cell_type": "code",
   "outputs": [],
   "execution_count": null,
   "source": ""
  }
 ],
 "metadata": {
  "kernelspec": {
   "display_name": "base",
   "language": "python",
   "name": "python3"
  },
  "language_info": {
   "codemirror_mode": {
    "name": "ipython",
    "version": 3
   },
   "file_extension": ".py",
   "mimetype": "text/x-python",
   "name": "python",
   "nbconvert_exporter": "python",
   "pygments_lexer": "ipython3",
   "version": "3.11.7"
  }
 },
 "nbformat": 4,
 "nbformat_minor": 2
}
