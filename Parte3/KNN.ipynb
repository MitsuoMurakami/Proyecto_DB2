{
 "cells": [
  {
   "cell_type": "code",
   "execution_count": 21,
   "metadata": {},
   "outputs": [],
   "source": [
    "import pickle\n",
    "import numpy as np"
   ]
  },
  {
   "cell_type": "code",
   "execution_count": 34,
   "metadata": {},
   "outputs": [],
   "source": [
    "# load the pkl\n",
    "with open(\"pca_features.pkl\", \"rb\") as file:\n",
    "    track_ids = pickle.load(file)\n",
    "    features_pca = pickle.load(file)"
   ]
  },
  {
   "cell_type": "code",
   "execution_count": 35,
   "metadata": {},
   "outputs": [
    {
     "name": "stdout",
     "output_type": "stream",
     "text": [
      "11883\n",
      "(237660, 154)\n"
     ]
    }
   ],
   "source": [
    "print(len(track_ids))\n",
    "print(features_pca.shape)"
   ]
  },
  {
   "cell_type": "code",
   "execution_count": 36,
   "metadata": {},
   "outputs": [],
   "source": [
    "features_pca_1000=features_pca[:(1000*20)]\n",
    "track_ids_1000=track_ids[:1000]"
   ]
  },
  {
   "cell_type": "code",
   "execution_count": 44,
   "metadata": {},
   "outputs": [
    {
     "data": {
      "text/plain": [
       "(20, 154)"
      ]
     },
     "execution_count": 44,
     "metadata": {},
     "output_type": "execute_result"
    }
   ],
   "source": [
    "features_pca_1000[:20].shape"
   ]
  },
  {
   "cell_type": "code",
   "execution_count": 45,
   "metadata": {},
   "outputs": [
    {
     "name": "stdout",
     "output_type": "stream",
     "text": [
      "(1000, 3080)\n"
     ]
    }
   ],
   "source": [
    "\n",
    "num_canciones = features_pca_1000.shape[0] // 20 # como a cada cancion le pertenece 20 arrays aqui se pone en 1 por cada cancion\n",
    "features_pca_20en1=features_pca_1000.reshape(num_canciones, 20 * features_pca.shape[1])\n",
    "print(features_pca_20en1.shape)\n"
   ]
  },
  {
   "cell_type": "code",
   "execution_count": 104,
   "metadata": {},
   "outputs": [
    {
     "name": "stdout",
     "output_type": "stream",
     "text": [
      "Índices de los 5 vecinos más cercanos: [569, 472, 14, 15, 96]\n"
     ]
    }
   ],
   "source": [
    "import numpy as np\n",
    "import heapq\n",
    "\n",
    "def knn_lineal_pca(consulta, cancionesc, top_k):\n",
    "    nearest_neighbors = [(-float('inf'), -1)] * top_k  \n",
    "    \n",
    "    for i, embedding in enumerate(cancionesc):\n",
    "        dist = -np.linalg.norm(consulta - embedding)#consigo mi distancia euclidiana invertida para usar como max-heap\n",
    "        if dist > nearest_neighbors[0][0]:\n",
    "            heapq.heappop(nearest_neighbors)\n",
    "            heapq.heappush(nearest_neighbors, (dist, i))\n",
    "    nearest_neighbors = [i for dit, i in nearest_neighbors]\n",
    "    return nearest_neighbors\n",
    "\n",
    "indicecancion = 15  # Índice de una cancion\n",
    "query = features_pca_20en1[indicecancion]  # consulta\n",
    "top_k = 5  #cuantos k vecinos cercanos quiero\n",
    "\n",
    "resultado = knn_lineal_pca(query, features_pca_20en1, top_k)\n",
    "\n",
    "print(\"Índices de los \"+ str(top_k)+\" vecinos más cercanos: \"+str(resultado))\n"
   ]
  },
  {
   "cell_type": "markdown",
   "metadata": {},
   "source": [
    "busqueda por rango"
   ]
  },
  {
   "cell_type": "code",
   "execution_count": 115,
   "metadata": {},
   "outputs": [
    {
     "name": "stdout",
     "output_type": "stream",
     "text": [
      "Número de Canciones dentro del radio 4 : 6\n",
      "Indice de la canción : 15 ;Distancia: 0.0\n",
      "Indice de la canción : 96 ;Distancia: 3.8466039\n",
      "Indice de la canción : 14 ;Distancia: 3.884486\n",
      "Indice de la canción : 472 ;Distancia: 3.899892\n",
      "Indice de la canción : 569 ;Distancia: 3.9528081\n",
      "Indice de la canción : 905 ;Distancia: 3.9970117\n"
     ]
    }
   ],
   "source": [
    "import heapq\n",
    "\n",
    "def knn_busqueda_rango(query, cancionesc, rado):\n",
    "    canciones_en_radio = []\n",
    "    \n",
    "    for i, embedding in enumerate(cancionesc):\n",
    "        dist = np.linalg.norm(query - embedding)  \n",
    "        if dist <= radio: \n",
    "            heapq.heappush(canciones_en_radio, (dist, i))  \n",
    "    \n",
    "    return canciones_en_radio\n",
    "\n",
    "query = features_pca_20en1[indicecancion]  \n",
    "radio = 4  # Radio de búsqueda\n",
    "\n",
    "resultados = knn_busqueda_rango(query, features_pca_20en1, radio)\n",
    "\n",
    "print(\"Número de Canciones dentro del radio \" + str(radio) + \" : \" + str(len(resultados)))\n",
    "\n",
    "while resultados:\n",
    "    dist, idx = heapq.heappop(resultados)\n",
    "    print(\"Indice de la canción : \"+str(idx)+\" ;Distancia: \"+str(dist))\n"
   ]
  },
  {
   "cell_type": "code",
   "execution_count": 116,
   "metadata": {},
   "outputs": [
    {
     "name": "stdout",
     "output_type": "stream",
     "text": [
      "Número de Canciones dentro del radio 4.2 : 19\n",
      "Indice de la canción : 15 ;Distancia: 0.0\n",
      "Indice de la canción : 96 ;Distancia: 3.8466039\n",
      "Indice de la canción : 14 ;Distancia: 3.884486\n",
      "Indice de la canción : 472 ;Distancia: 3.899892\n",
      "Indice de la canción : 569 ;Distancia: 3.9528081\n",
      "Indice de la canción : 905 ;Distancia: 3.9970117\n",
      "Indice de la canción : 996 ;Distancia: 4.0165\n",
      "Indice de la canción : 394 ;Distancia: 4.038455\n",
      "Indice de la canción : 59 ;Distancia: 4.0740986\n",
      "Indice de la canción : 73 ;Distancia: 4.088399\n",
      "Indice de la canción : 209 ;Distancia: 4.0952306\n",
      "Indice de la canción : 204 ;Distancia: 4.0996323\n",
      "Indice de la canción : 524 ;Distancia: 4.1125727\n",
      "Indice de la canción : 697 ;Distancia: 4.1315236\n",
      "Indice de la canción : 72 ;Distancia: 4.1464515\n",
      "Indice de la canción : 266 ;Distancia: 4.1757545\n",
      "Indice de la canción : 230 ;Distancia: 4.1782913\n",
      "Indice de la canción : 730 ;Distancia: 4.184679\n",
      "Indice de la canción : 406 ;Distancia: 4.1887183\n"
     ]
    }
   ],
   "source": [
    "query = features_pca_20en1[indicecancion]  \n",
    "radio = 4.2  # Radio de búsqueda\n",
    "\n",
    "resultados = knn_busqueda_rango(query, features_pca_20en1, radio)\n",
    "\n",
    "print(\"Número de Canciones dentro del radio \" + str(radio) + \" : \" + str(len(resultados)))\n",
    "\n",
    "while resultados:\n",
    "    dist, idx = heapq.heappop(resultados)\n",
    "    print(\"Indice de la canción : \"+str(idx)+\" ;Distancia: \"+str(dist))"
   ]
  },
  {
   "cell_type": "code",
   "execution_count": 117,
   "metadata": {},
   "outputs": [
    {
     "name": "stdout",
     "output_type": "stream",
     "text": [
      "Número de Canciones dentro del radio 4.5 : 67\n",
      "Indice de la canción : 15 ;Distancia: 0.0\n",
      "Indice de la canción : 96 ;Distancia: 3.8466039\n",
      "Indice de la canción : 14 ;Distancia: 3.884486\n",
      "Indice de la canción : 472 ;Distancia: 3.899892\n",
      "Indice de la canción : 569 ;Distancia: 3.9528081\n",
      "Indice de la canción : 905 ;Distancia: 3.9970117\n",
      "Indice de la canción : 996 ;Distancia: 4.0165\n",
      "Indice de la canción : 394 ;Distancia: 4.038455\n",
      "Indice de la canción : 59 ;Distancia: 4.0740986\n",
      "Indice de la canción : 73 ;Distancia: 4.088399\n",
      "Indice de la canción : 209 ;Distancia: 4.0952306\n",
      "Indice de la canción : 204 ;Distancia: 4.0996323\n",
      "Indice de la canción : 524 ;Distancia: 4.1125727\n",
      "Indice de la canción : 697 ;Distancia: 4.1315236\n",
      "Indice de la canción : 72 ;Distancia: 4.1464515\n",
      "Indice de la canción : 266 ;Distancia: 4.1757545\n",
      "Indice de la canción : 230 ;Distancia: 4.1782913\n",
      "Indice de la canción : 730 ;Distancia: 4.184679\n",
      "Indice de la canción : 406 ;Distancia: 4.1887183\n",
      "Indice de la canción : 137 ;Distancia: 4.217416\n",
      "Indice de la canción : 138 ;Distancia: 4.217416\n",
      "Indice de la canción : 589 ;Distancia: 4.219122\n",
      "Indice de la canción : 19 ;Distancia: 4.2200184\n",
      "Indice de la canción : 701 ;Distancia: 4.231535\n",
      "Indice de la canción : 641 ;Distancia: 4.2536316\n",
      "Indice de la canción : 153 ;Distancia: 4.2756433\n",
      "Indice de la canción : 874 ;Distancia: 4.2865357\n",
      "Indice de la canción : 826 ;Distancia: 4.2916374\n",
      "Indice de la canción : 160 ;Distancia: 4.2951303\n",
      "Indice de la canción : 624 ;Distancia: 4.30125\n",
      "Indice de la canción : 32 ;Distancia: 4.30238\n",
      "Indice de la canción : 33 ;Distancia: 4.30238\n",
      "Indice de la canción : 34 ;Distancia: 4.30238\n",
      "Indice de la canción : 614 ;Distancia: 4.3046374\n",
      "Indice de la canción : 216 ;Distancia: 4.3079515\n",
      "Indice de la canción : 659 ;Distancia: 4.311919\n",
      "Indice de la canción : 486 ;Distancia: 4.333458\n",
      "Indice de la canción : 791 ;Distancia: 4.335736\n",
      "Indice de la canción : 978 ;Distancia: 4.351545\n",
      "Indice de la canción : 789 ;Distancia: 4.3518367\n",
      "Indice de la canción : 688 ;Distancia: 4.3540974\n",
      "Indice de la canción : 377 ;Distancia: 4.361038\n",
      "Indice de la canción : 505 ;Distancia: 4.36232\n",
      "Indice de la canción : 168 ;Distancia: 4.3873386\n",
      "Indice de la canción : 169 ;Distancia: 4.3873386\n",
      "Indice de la canción : 170 ;Distancia: 4.3873386\n",
      "Indice de la canción : 914 ;Distancia: 4.4034963\n",
      "Indice de la canción : 817 ;Distancia: 4.4117336\n",
      "Indice de la canción : 808 ;Distancia: 4.423983\n",
      "Indice de la canción : 143 ;Distancia: 4.424242\n",
      "Indice de la canción : 947 ;Distancia: 4.433826\n",
      "Indice de la canción : 716 ;Distancia: 4.43389\n",
      "Indice de la canción : 825 ;Distancia: 4.4357486\n",
      "Indice de la canción : 0 ;Distancia: 4.4404287\n",
      "Indice de la canción : 54 ;Distancia: 4.4405603\n",
      "Indice de la canción : 253 ;Distancia: 4.4451814\n",
      "Indice de la canción : 390 ;Distancia: 4.458293\n",
      "Indice de la canción : 68 ;Distancia: 4.4583163\n",
      "Indice de la canción : 992 ;Distancia: 4.4663224\n",
      "Indice de la canción : 233 ;Distancia: 4.4678693\n",
      "Indice de la canción : 388 ;Distancia: 4.479094\n",
      "Indice de la canción : 478 ;Distancia: 4.481494\n",
      "Indice de la canción : 940 ;Distancia: 4.4852085\n",
      "Indice de la canción : 620 ;Distancia: 4.486499\n",
      "Indice de la canción : 557 ;Distancia: 4.494395\n",
      "Indice de la canción : 443 ;Distancia: 4.4947815\n",
      "Indice de la canción : 748 ;Distancia: 4.4979467\n"
     ]
    }
   ],
   "source": [
    "query = features_pca_20en1[indicecancion]  \n",
    "radio = 4.5  # Radio de búsqueda\n",
    "\n",
    "resultados = knn_busqueda_rango(query, features_pca_20en1, radio)\n",
    "\n",
    "print(\"Número de Canciones dentro del radio \" + str(radio) + \" : \" + str(len(resultados)))\n",
    "\n",
    "while resultados:\n",
    "    dist, idx = heapq.heappop(resultados)\n",
    "    print(\"Indice de la canción : \"+str(idx)+\" ;Distancia: \"+str(dist))"
   ]
  },
  {
   "cell_type": "markdown",
   "metadata": {},
   "source": [
    "Testando la similitud "
   ]
  },
  {
   "cell_type": "code",
   "execution_count": null,
   "metadata": {},
   "outputs": [],
   "source": [
    "import pandas as pd\n",
    "df = pd.read_csv('spotify_songs.csv',sep=',')\n",
    "\n",
    "# Mostrar las primeras filas del DataFrame\n",
    "df"
   ]
  },
  {
   "cell_type": "code",
   "execution_count": null,
   "metadata": {},
   "outputs": [],
   "source": [
    "df.iloc[[13,14,95,471,568]]\n"
   ]
  },
  {
   "cell_type": "code",
   "execution_count": 90,
   "metadata": {},
   "outputs": [
    {
     "name": "stdout",
     "output_type": "stream",
     "text": [
      "     14   15   96   472  569\n",
      "14   1.0  1.0  1.0  1.0  1.0\n",
      "15   1.0  1.0  1.0  1.0  1.0\n",
      "96   1.0  1.0  1.0  1.0  1.0\n",
      "472  1.0  1.0  1.0  1.0  1.0\n",
      "569  1.0  1.0  1.0  1.0  1.0\n"
     ]
    }
   ],
   "source": [
    "import pandas as pd\n",
    "from sklearn.metrics.pairwise import cosine_similarity\n",
    "\n",
    "df = pd.read_csv('spotify_songs.csv', sep=',')\n",
    "\n",
    "filas_seleccionadas = df.iloc[[14, 15, 96, 472, 569]]\n",
    "\n",
    "caracteristicas_acusticas = ['danceability', 'energy', 'loudness', 'tempo', 'duration_ms', 'valence']\n",
    "\n",
    "similaridad = cosine_similarity(filas_seleccionadas[caracteristicas_acusticas])\n",
    "similaridad_df = pd.DataFrame(similaridad, index=filas_seleccionadas.index, columns=filas_seleccionadas.index)\n",
    "\n",
    "print(similaridad_df)\n",
    "\n"
   ]
  }
 ],
 "metadata": {
  "kernelspec": {
   "display_name": "base",
   "language": "python",
   "name": "python3"
  },
  "language_info": {
   "codemirror_mode": {
    "name": "ipython",
    "version": 3
   },
   "file_extension": ".py",
   "mimetype": "text/x-python",
   "name": "python",
   "nbconvert_exporter": "python",
   "pygments_lexer": "ipython3",
   "version": "3.11.7"
  }
 },
 "nbformat": 4,
 "nbformat_minor": 2
}
