{
 "cells": [
  {
   "cell_type": "code",
   "execution_count": 21,
   "metadata": {},
   "outputs": [],
   "source": [
    "import pickle\n",
    "import numpy as np"
   ]
  },
  {
   "cell_type": "code",
   "execution_count": 34,
   "metadata": {},
   "outputs": [],
   "source": [
    "# load the pkl\n",
    "with open(\"pca_features.pkl\", \"rb\") as file:\n",
    "    track_ids = pickle.load(file)\n",
    "    features_pca = pickle.load(file)"
   ]
  },
  {
   "cell_type": "code",
   "execution_count": 35,
   "metadata": {},
   "outputs": [
    {
     "name": "stdout",
     "output_type": "stream",
     "text": [
      "11883\n",
      "(237660, 154)\n"
     ]
    }
   ],
   "source": [
    "print(len(track_ids))\n",
    "print(features_pca.shape)"
   ]
  },
  {
   "cell_type": "code",
   "execution_count": 36,
   "metadata": {},
   "outputs": [],
   "source": [
    "features_pca_1000=features_pca[:(1000*20)]\n",
    "track_ids_1000=track_ids[:1000]"
   ]
  },
  {
   "cell_type": "code",
   "execution_count": 44,
   "metadata": {},
   "outputs": [
    {
     "data": {
      "text/plain": [
       "(20, 154)"
      ]
     },
     "execution_count": 44,
     "metadata": {},
     "output_type": "execute_result"
    }
   ],
   "source": [
    "features_pca_1000[:20].shape"
   ]
  },
  {
   "cell_type": "code",
   "execution_count": 45,
   "metadata": {},
   "outputs": [
    {
     "name": "stdout",
     "output_type": "stream",
     "text": [
      "(1000, 3080)\n"
     ]
    }
   ],
   "source": [
    "\n",
    "num_canciones = features_pca_1000.shape[0] // 20 # como a cada cancion le pertenece 20 arrays aqui se pone en 1 por cada cancion\n",
    "features_pca_20en1=features_pca_1000.reshape(num_canciones, 20 * features_pca.shape[1])\n",
    "print(features_pca_20en1.shape)\n"
   ]
  },
  {
   "cell_type": "code",
   "execution_count": null,
   "metadata": {},
   "outputs": [
    {
     "name": "stdout",
     "output_type": "stream",
     "text": [
      "Índices de los 5 vecinos más cercanos: [569, 472, 14, 15, 96]\n"
     ]
    }
   ],
   "source": [
    "import numpy as np\n",
    "import heapq\n",
    "\n",
    "def knn_lineal_pca(consulta, cancionesc, top_k):\n",
    "    nearest_neighbors = [(-float('inf'), -1)] * top_k  \n",
    "    \n",
    "    for i, embedding in enumerate(cancionesc):\n",
    "        dist = -np.linalg.norm(consulta - embedding)#consigo mi distancia euclidiana invertida para usar como max-heap\n",
    "        if dist > nearest_neighbors[0][0]:\n",
    "            heapq.heappop(nearest_neighbors)\n",
    "            heapq.heappush(nearest_neighbors, (dist, i))\n",
    "    nearest_neighbors = [i for dit, i in nearest_neighbors]\n",
    "    return nearest_neighbors\n",
    "\n",
    "indicecancion = 15  # Índice de una cancion\n",
    "query = features_pca_20en1[indicecancion]  # consulta\n",
    "top_k = 5  #cuantos k vecinos cercanos quiero\n",
    "\n",
    "resultado = knn_lineal_pca(query, features_pca_20en1, top_k)\n",
    "\n",
    "print(\"Índices de los \"+ str(top_k)+\" vecinos más cercanos: \"+str(resultado))\n"
   ]
  }
 ],
 "metadata": {
  "kernelspec": {
   "display_name": "base",
   "language": "python",
   "name": "python3"
  },
  "language_info": {
   "codemirror_mode": {
    "name": "ipython",
    "version": 3
   },
   "file_extension": ".py",
   "mimetype": "text/x-python",
   "name": "python",
   "nbconvert_exporter": "python",
   "pygments_lexer": "ipython3",
   "version": "3.11.7"
  }
 },
 "nbformat": 4,
 "nbformat_minor": 2
}
