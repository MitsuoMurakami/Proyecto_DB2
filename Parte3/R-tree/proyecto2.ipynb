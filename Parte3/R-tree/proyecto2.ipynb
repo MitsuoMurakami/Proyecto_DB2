{
 "cells": [
  {
   "cell_type": "code",
   "execution_count": null,
   "metadata": {},
   "outputs": [],
   "source": [
    "import pickle\n",
    "# load the data\n",
    "with open(\"pca_features.pkl\", \"rb\") as file:\n",
    "    track_ids = pickle.load(file)\n",
    "    features_pca = pickle.load(file)"
   ]
  },
  {
   "cell_type": "code",
   "execution_count": 2,
   "metadata": {},
   "outputs": [
    {
     "name": "stdout",
     "output_type": "stream",
     "text": [
      "1.3.0\n"
     ]
    }
   ],
   "source": [
    "import rtree\n",
    "print(rtree.__version__)\n"
   ]
  },
  {
   "cell_type": "code",
   "execution_count": 5,
   "metadata": {},
   "outputs": [
    {
     "name": "stdout",
     "output_type": "stream",
     "text": [
      "11883\n"
     ]
    }
   ],
   "source": [
    "print(len(track_ids))"
   ]
  },
  {
   "cell_type": "code",
   "execution_count": 4,
   "metadata": {},
   "outputs": [
    {
     "name": "stdout",
     "output_type": "stream",
     "text": [
      "(237660, 154)\n"
     ]
    }
   ],
   "source": [
    "print((features_pca).shape)"
   ]
  },
  {
   "cell_type": "markdown",
   "metadata": {},
   "source": [
    "# Construccion del index R-tree en vectores locales"
   ]
  },
  {
   "cell_type": "code",
   "execution_count": null,
   "metadata": {},
   "outputs": [
    {
     "name": "stderr",
     "output_type": "stream",
     "text": [
      "Indexando vectores en R-Tree: 100%|██████████| 237660/237660 [14:16<00:00, 277.61it/s]\n"
     ]
    }
   ],
   "source": [
    "from rtree import index\n",
    "from tqdm import tqdm\n",
    "\n",
    "p = index.Property()\n",
    "p.dimension = 154 \n",
    "rtree_index = index.Index(properties=p)\n",
    "\n",
    "total_vectors = len(track_ids) * 20  # Total de vectores para indexar\n",
    "with tqdm(total=total_vectors, desc=\"Indexando vectores en R-Tree\") as pbar:\n",
    "    for song_idx, track_id in enumerate(track_ids):  # Iterando en las canciones\n",
    "        for local_idx in range(20):  # Cada canción tiene 20 descriptores\n",
    "            global_idx = song_idx * 20 + local_idx  # Índice global en features_pca\n",
    "            vector = features_pca[global_idx]  # Obtener el vector local\n",
    "            rtree_index.insert(global_idx, vector)  # Insertar en el R-Tree\n",
    "            pbar.update(1)  # Incrementar la barra de progreso\n"
   ]
  },
  {
   "cell_type": "markdown",
   "metadata": {},
   "source": [
    "# Algoritmo KNN usando votación mayoritaria"
   ]
  },
  {
   "cell_type": "code",
   "execution_count": null,
   "metadata": {},
   "outputs": [],
   "source": [
    "def knn_top_k_songs(rtree_index, features_pca, track_ids, query_vectors, k=2):\n",
    "    \"\"\"\n",
    "    Realiza una búsqueda KNN en un R-Tree para 20 vectores de una canción y retorna las `k` canciones más cercanas.\n",
    "\n",
    "    Parámetros:\n",
    "        rtree_index (rtree.index.Index): Índice R-Tree construido con los vectores PCA.\n",
    "        features_pca (np.ndarray): Matriz de vectores PCA.\n",
    "        track_ids (list): Lista de IDs de canciones, uno por canción.\n",
    "        query_vectors (np.ndarray): 20 vectores de consulta en el espacio PCA (de una canción).\n",
    "        k (int): Número de canciones más cercanas a retornar.\n",
    "\n",
    "    Retorna:\n",
    "        list: Lista de las `k` canciones más cercanas, en formato:\n",
    "              [(track_id1, votos1), (track_id2, votos2), ...].\n",
    "    \"\"\"\n",
    "    from collections import Counter\n",
    "    import numpy as np\n",
    "\n",
    "    # Acumular resultados de los 20 vectores\n",
    "    all_neighbors = []\n",
    "\n",
    "    for query_vector in query_vectors:\n",
    "        # Búsqueda KNN para cada vector de consulta\n",
    "        nearest_neighbors = list(rtree_index.nearest(query_vector, num_results=20))  # Buscar 20 vecinos por vector ya que cada cancion tiene 20 vectores caracteristicos\n",
    "        all_neighbors.extend(nearest_neighbors)\n",
    "\n",
    "    # Asociar vecinos con sus canciones\n",
    "    song_indices = [neighbor // 20 for neighbor in all_neighbors]  # Índices de canciones\n",
    "    track_id_votes = [track_ids[song_idx] for song_idx in song_indices]  # Mapear a track_ids\n",
    "\n",
    "    # Votación mayoritaria\n",
    "    song_counts = Counter(track_id_votes)\n",
    "    top_songs = song_counts.most_common(k)  # Seleccionar las `k` canciones más votadas\n",
    "\n",
    "    return top_songs\n"
   ]
  },
  {
   "cell_type": "markdown",
   "metadata": {},
   "source": [
    "# Probando el KNN-Rtree"
   ]
  },
  {
   "cell_type": "code",
   "execution_count": null,
   "metadata": {},
   "outputs": [
    {
     "name": "stdout",
     "output_type": "stream",
     "text": [
      "7pse475uICmWRY5hEkvPvI\n"
     ]
    }
   ],
   "source": [
    "print(track_ids[0]) #deberia de salir primero en la busqueda KNN"
   ]
  },
  {
   "cell_type": "code",
   "execution_count": null,
   "metadata": {},
   "outputs": [
    {
     "name": "stdout",
     "output_type": "stream",
     "text": [
      "Song 1: '7pse475uICmWRY5hEkvPvI', Votes: 23\n",
      "Song 2: '5CwOUooch74h0XarhDfAQK', Votes: 10\n",
      "Song 3: '3bZCS8ThTAxMJZavYWOY1z', Votes: 8\n"
     ]
    }
   ],
   "source": [
    "song_idx = 0\n",
    "query_vectors = features_pca[song_idx * 20 : (song_idx + 1) * 20]\n",
    "result = knn_top_k_songs(rtree_index, features_pca, track_ids, query_vectors, k=3) # Llamar a la función con k=3\n",
    "\n",
    "# Mostrar resultados\n",
    "for i, (song_id, votes) in enumerate(result, 1):\n",
    "    print(f\"Song {i}: '{song_id}', Votes: {votes}\")"
   ]
  },
  {
   "cell_type": "code",
   "execution_count": null,
   "metadata": {},
   "outputs": [
    {
     "data": {
      "text/plain": [
       "1"
      ]
     },
     "execution_count": 23,
     "metadata": {},
     "output_type": "execute_result"
    }
   ],
   "source": []
  }
 ],
 "metadata": {
  "kernelspec": {
   "display_name": "Python 3",
   "language": "python",
   "name": "python3"
  },
  "language_info": {
   "codemirror_mode": {
    "name": "ipython",
    "version": 3
   },
   "file_extension": ".py",
   "mimetype": "text/x-python",
   "name": "python",
   "nbconvert_exporter": "python",
   "pygments_lexer": "ipython3",
   "version": "3.10.6"
  }
 },
 "nbformat": 4,
 "nbformat_minor": 2
}
