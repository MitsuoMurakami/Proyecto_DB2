{
 "cells": [
  {
   "cell_type": "code",
   "metadata": {
    "ExecuteTime": {
     "end_time": "2024-12-02T19:58:45.553696Z",
     "start_time": "2024-12-02T19:58:42.915731Z"
    }
   },
   "source": [
    "import pickle\n",
    "import numpy as np\n",
    "import heapq\n",
    "\n",
    "from gradio import DataFrame\n",
    "from rich.progress import track\n",
    "\n",
    "# load the data\n",
    "with open(\"pca_features.pkl\", \"rb\") as file:\n",
    "    track_ids = pickle.load(file)\n",
    "    features_pca = pickle.load(file)"
   ],
   "outputs": [],
   "execution_count": 1
  },
  {
   "cell_type": "code",
   "metadata": {
    "ExecuteTime": {
     "end_time": "2024-12-02T03:12:43.766664Z",
     "start_time": "2024-12-02T03:12:43.743996Z"
    }
   },
   "source": [
    "import rtree\n",
    "print(rtree.__version__)"
   ],
   "outputs": [
    {
     "name": "stdout",
     "output_type": "stream",
     "text": [
      "1.3.0\n"
     ]
    }
   ],
   "execution_count": 3
  },
  {
   "cell_type": "code",
   "metadata": {
    "ExecuteTime": {
     "end_time": "2024-12-02T03:12:44.280992Z",
     "start_time": "2024-12-02T03:12:44.274161Z"
    }
   },
   "source": [
    "print(len(track_ids))\n",
    "print((features_pca).shape)"
   ],
   "outputs": [
    {
     "name": "stdout",
     "output_type": "stream",
     "text": [
      "11883\n",
      "(237660, 154)\n"
     ]
    }
   ],
   "execution_count": 4
  },
  {
   "metadata": {
    "ExecuteTime": {
     "end_time": "2024-12-02T03:58:44.620133Z",
     "start_time": "2024-12-02T03:58:44.615178Z"
    }
   },
   "cell_type": "code",
   "source": [
    "print(type(track_ids))\n",
    "print(track_ids[0])"
   ],
   "outputs": [
    {
     "name": "stdout",
     "output_type": "stream",
     "text": [
      "<class 'list'>\n",
      "7pse475uICmWRY5hEkvPvI\n"
     ]
    }
   ],
   "execution_count": 28
  },
  {
   "metadata": {},
   "cell_type": "markdown",
   "source": [
    "\n",
    "# Rtree and linear knn\n"
   ]
  },
  {
   "metadata": {
    "ExecuteTime": {
     "end_time": "2024-12-02T03:12:44.807369Z",
     "start_time": "2024-12-02T03:12:44.783801Z"
    }
   },
   "cell_type": "code",
   "source": [
    "from rtree import index\n",
    "from tqdm import tqdm\n",
    "import os\n",
    "\n",
    "\n",
    "p = index.Property()\n",
    "p.dimension = 154  \n",
    "\n",
    "index_name = \"rtree_index_spotify\"\n",
    "if os.path.exists(f\"{index_name}.dat\") and os.path.exists(f\"{index_name}.idx\"):\n",
    "    rtree_index = index.Index(index_name, properties=p)\n",
    "    print(\"Indice cargado\")\n",
    "else:\n",
    " \n",
    "    rtree_index = index.Index(index_name, properties=p)\n",
    "    total_vectors = len(track_ids) * 20  # Total de vectores para indexar\n",
    "    with tqdm(total=total_vectors, desc=\"Indexando vectores en R-Tree\") as pbar:\n",
    "        for song_idx, track_id in enumerate(track_ids):  # Iterando en las canciones\n",
    "            for local_idx in range(20):  # Cada canción tiene 20 descriptores\n",
    "                global_idx = song_idx * 20 + local_idx  # Indice global en features_pca\n",
    "                vector = features_pca[global_idx]  # Obtener el vector local\n",
    "                rtree_index.insert(global_idx, vector)  # Insertar en el R-Tree\n",
    "                pbar.update(1)  # Incrementar la barra de progreso\n",
    "    print(\"Indice guardado\")"
   ],
   "outputs": [
    {
     "name": "stdout",
     "output_type": "stream",
     "text": [
      "Indice cargado\n"
     ]
    }
   ],
   "execution_count": 5
  },
  {
   "cell_type": "code",
   "metadata": {
    "ExecuteTime": {
     "end_time": "2024-12-02T03:25:12.376227Z",
     "start_time": "2024-12-02T03:25:12.353632Z"
    }
   },
   "source": [
    "from collections import Counter\n",
    "import numpy as np\n",
    "def knn_top_R_tree(rtree_index, features_pca, track_ids, query_vectors, k=2):\n",
    "    \"\"\"\n",
    "    Realiza una búsqueda KNN en un R-Tree para 20 vectores de una canción y retorna las `k` canciones más cercanas.\n",
    "\n",
    "    Parámetros:\n",
    "        rtree_index (rtree.index.Index): Índice R-Tree construido con los vectores PCA.\n",
    "        features_pca (np.ndarray): Matriz de vectores PCA.\n",
    "        track_ids (list): Lista de IDs de canciones, uno por canción.\n",
    "        query_vectors (np.ndarray): 20 vectores de consulta en el espacio PCA (de una canción).\n",
    "        k (int): Número de canciones más cercanas a retornar.\n",
    "\n",
    "    Retorna:\n",
    "        list: Lista de las `k` canciones más cercanas, en formato:\n",
    "              [(track_id1, votos1), (track_id2, votos2), ...].\n",
    "    \"\"\"\n",
    "    start_time = time.time()\n",
    "    # Acumular resultados de los 20 vectores\n",
    "    all_neighbors = []\n",
    "\n",
    "    for query_vector in query_vectors:\n",
    "        # Búsqueda KNN para cada vector de consulta\n",
    "        nearest_neighbors = list(rtree_index.nearest(query_vector, num_results=20))  # Buscar 20 vecinos por vector ya que cada cancion tiene 20 vectores caracteristicos\n",
    "        all_neighbors.extend(nearest_neighbors)\n",
    "\n",
    "    # Asociar vecinos con sus canciones\n",
    "    song_indices = [neighbor // 20 for neighbor in all_neighbors]  # Índices de canciones\n",
    "    track_id_votes = [track_ids[song_idx] for song_idx in song_indices]  # Mapear a track_ids\n",
    "\n",
    "    # Votación mayoritaria\n",
    "    song_counts = Counter(track_id_votes)\n",
    "    top_songs = song_counts.most_common(k)  # Seleccionar las `k` canciones más votadas\n",
    "    \n",
    "    search_time = time.time() - start_time\n",
    "    return top_songs, search_time\n",
    "def knn_top_lineal(cancionesc,track_ids,consultas, top_k):\n",
    "    start_time = time.time()\n",
    "    \n",
    "    all_neighbors=[]\n",
    "    \n",
    "    for consulta in consultas:\n",
    "        nearest_neighbors = [(-float('inf'), -1)] * 20 #20 caracteristicas\n",
    "        for i, embedding in enumerate(cancionesc):\n",
    "            dist = -np.linalg.norm(consulta - embedding)#consigo mi distancia euclidiana invertida para usar como max-heap\n",
    "            if dist > nearest_neighbors[0][0]:\n",
    "                heapq.heappop(nearest_neighbors)\n",
    "                heapq.heappush(nearest_neighbors, (dist, i))\n",
    "        nearest_neighbors = [i for dit, i in nearest_neighbors]\n",
    "        all_neighbors.extend(nearest_neighbors)\n",
    "\n",
    "    song_indices = [neighbor // 20 for neighbor in all_neighbors]\n",
    "    track_id_votes = [track_ids[song_idx] for song_idx in song_indices]\n",
    "\n",
    "    song_counts = Counter(track_id_votes)\n",
    "    top_songs = song_counts.most_common(top_k)  \n",
    "    \n",
    "    search_time = time.time() - start_time\n",
    "    return top_songs, search_time\n",
    "def knn_busquedarango_lineal(cancionesc, track_ids, consultas,radio):\n",
    "    all_neighbors = []\n",
    "    distancias = [] \n",
    "\n",
    "    for consulta in consultas:\n",
    "        nearest_neighbors = [(-float('inf'), -1)] * 20  # 20 características\n",
    "        for i, embedding in enumerate(cancionesc):\n",
    "            dist = -np.linalg.norm(consulta - embedding)  # Distancia euclidiana invertida para max-heap\n",
    "            if dist > nearest_neighbors[0][0]:\n",
    "                heapq.heappop(nearest_neighbors)\n",
    "                heapq.heappush(nearest_neighbors, (dist, i))\n",
    "        nearest_neighbors = [(dit, i) for dit, i in nearest_neighbors]\n",
    "        all_neighbors.extend([i for dit, i in nearest_neighbors])\n",
    "        distancias.extend([-dit for dit, i in nearest_neighbors])  \n",
    "\n",
    "    song_indices = [neighbor // 20 for neighbor in all_neighbors]\n",
    "    track_id_votes = [track_ids[song_idx] for song_idx in song_indices] \n",
    "    song_counts = Counter(track_id_votes)\n",
    "\n",
    "    track_id_distancias = {}\n",
    "    for idx, track_id in enumerate(track_id_votes):\n",
    "        if track_id not in track_id_distancias:\n",
    "            track_id_distancias[track_id] = []\n",
    "        track_id_distancias[track_id].append(distancias[idx])\n",
    "    distancias_canciones = [(song_id, votes, np.mean(track_id_distancias[song_id])) for song_id, votes in song_counts.most_common()]\n",
    "    top_songs = []\n",
    "    for i, (song_id, votes, avg_dist) in enumerate(distancias_canciones):\n",
    "        if i < 10 or avg_dist <= radio:\n",
    "            top_songs.append((song_id, votes))\n",
    "\n",
    "    return top_songs\n",
    "\n",
    "\n"
   ],
   "outputs": [],
   "execution_count": 18
  },
  {
   "cell_type": "code",
   "metadata": {
    "ExecuteTime": {
     "end_time": "2024-12-02T03:26:48.441547Z",
     "start_time": "2024-12-02T03:26:24.855776Z"
    }
   },
   "source": [
    "song_idx = 0\n",
    "query_vectors = features_pca[song_idx * 20 : (song_idx + 1) * 20]\n",
    "result, time_serach_rtree = knn_top_R_tree(rtree_index, features_pca, track_ids, query_vectors, k=8) # Llamar a la función con k=3\n",
    "resultado_final=[]\n",
    "# Mostrar resultados\n",
    "for i, (song_id, votes) in enumerate(result, 1):\n",
    "    resultado_final.append(song_id)\n",
    "print(resultado_final)"
   ],
   "outputs": [
    {
     "name": "stdout",
     "output_type": "stream",
     "text": [
      "['7pse475uICmWRY5hEkvPvI', '5CwOUooch74h0XarhDfAQK', '3bZCS8ThTAxMJZavYWOY1z', '1U2xFfjK1QUuicENnW0iwv', '6MGryNr7aENIEfPUV1cHyg', '3OiEY2VLzrTyCoU8q2SQpe', '1oy6EH41CdAido7rIuuFzY', '2vPZ4Lklyu75zBR3SgbFNI']\n"
     ]
    }
   ],
   "execution_count": 19
  },
  {
   "metadata": {},
   "cell_type": "markdown",
   "source": "# LSH"
  },
  {
   "cell_type": "code",
   "metadata": {
    "ExecuteTime": {
     "end_time": "2024-12-02T03:26:55.295786Z",
     "start_time": "2024-12-02T03:26:48.453172Z"
    }
   },
   "source": [
    "# Indice LSH\n",
    "# Librería faiss\n",
    "\n",
    "import faiss\n",
    "import numpy as np\n",
    "import pickle\n",
    "import time\n",
    "\n",
    "# N = 11903  # Número de canciones (features)\n",
    "\n",
    "\n",
    "# Cargar los datos\n",
    "\n",
    "\"\"\"\n",
    "CHANGE PATH\n",
    "\"\"\"\n",
    "# with open(\"feature_spotify.pkl\", \"rb\") as file:\n",
    "with open(r\"..\\data_extraction\\feature_spotify.pkl\", \"rb\") as file:\n",
    "\n",
    "    track_ids = pickle.load(file)\n",
    "    features = pickle.load(file)\n",
    "\n",
    "# Validar que track_ids y features tengan el mismo tamaño\n",
    "assert len(track_ids) == len(features), \"track_ids y features no están alineados.\"\n",
    "\n",
    "# Aplanar los vectores y alinear los IDs\n",
    "features_flat = []\n",
    "track_ids_flat = []\n",
    "\n",
    "for idx, (track_id, feature_vectors) in enumerate(zip(track_ids, features)):\n",
    "    if len(feature_vectors) > 0 and len(feature_vectors[0]) == 1280:  # Validar dimensión\n",
    "        features_flat.extend(feature_vectors)  # Aplanar vectores\n",
    "        track_ids_flat.extend([track_id] * len(feature_vectors))  # Repetir track_id\n",
    "\n",
    "features_flat = np.array(features_flat, dtype=\"float32\")  # Convertir a arreglo numpy\n",
    "\n",
    "# Crear el índice LSH\n",
    "n_bits = 1024  # Número de bits para el hash LSH\n",
    "index_lsh = faiss.IndexLSH(1280, n_bits)\n",
    "\n",
    "# Indexación\n",
    "start_time = time.time()\n",
    "index_lsh.add(features_flat)\n",
    "indexation_time = time.time() - start_time\n",
    "print(f\"Tiempo de indexación (LSH): {indexation_time:.2f} segundos\")\n"
   ],
   "outputs": [
    {
     "name": "stdout",
     "output_type": "stream",
     "text": [
      "Tiempo de indexación (LSH): 2.68 segundos\n"
     ]
    }
   ],
   "execution_count": 20
  },
  {
   "cell_type": "code",
   "metadata": {
    "ExecuteTime": {
     "end_time": "2024-12-02T03:27:01.739269Z",
     "start_time": "2024-12-02T03:27:01.729568Z"
    }
   },
   "source": [
    "# Función de búsqueda K-NN\n",
    "def knn_search_lsh(query_index, k):\n",
    "    query_vector = features_flat[query_index].reshape(1, -1)\n",
    "    start_time = time.time()\n",
    "    D, I = index_lsh.search(query_vector, k)\n",
    "    search_time = time.time() - start_time\n",
    "    \n",
    "    print(f\"Búsqueda k-NN para el objeto en el índice {query_index} (k={k}):\")\n",
    "    print(\"Distancias:\", D[0])\n",
    "    print(\"Índices:\", I[0])\n",
    "    \n",
    "    # Imprimir los track_ids correspondientes\n",
    "    result_ids = [track_ids_flat[idx] for idx in I[0] if idx != -1]  # Ignorar índices inválidos\n",
    "    print(\"Track IDs:\", result_ids)\n",
    "    print(f\"Tiempo de búsqueda k-NN: {search_time:.2f} segundos\")\n",
    "    \n",
    "    return result_ids, search_time\n",
    "\n",
    "\n",
    "# Índice de consulta\n",
    "# query_index = 100 # Canción de consulta\n",
    "# k = 8       # Número de vecinos más cercanos\n",
    "\n",
    "# print(\"Buscar: \", track_ids_flat[query_index])\n",
    "\n",
    "# print()\n",
    "# # Ejecutar búsqueda K-NN\n",
    "# knn_res = knn_search_lsh(query_index, k)\n"
   ],
   "outputs": [],
   "execution_count": 21
  },
  {
   "cell_type": "markdown",
   "metadata": {},
   "source": "# Parser\n"
  },
  {
   "metadata": {
    "ExecuteTime": {
     "end_time": "2024-12-02T07:00:33.426210Z",
     "start_time": "2024-12-02T07:00:32.718397Z"
    }
   },
   "cell_type": "code",
   "source": [
    "import pandas as pd\n",
    "\n",
    "df_songs = pd.read_csv(r\"..\\data_extraction\\spotify_songs.csv\")\n",
    "# map the track_ids to the song names\n",
    "track_id_to_name = df_songs.set_index(\"track_id\")[\"track_name\"].to_dict()"
   ],
   "outputs": [],
   "execution_count": 80
  },
  {
   "metadata": {
    "ExecuteTime": {
     "end_time": "2024-12-02T07:40:00.500069Z",
     "start_time": "2024-12-02T07:40:00.449994Z"
    }
   },
   "cell_type": "code",
   "source": [
    "\n",
    "# track_name_to_id = df_songs.set_index(\"track_name\")[\"track_id\"].to_dict()\n",
    "track_name_to_id = {}\n",
    "song_names_ids = os.listdir(r\"..\\data_extraction\\data_previews\")\n",
    "for song_name_id in song_names_ids:\n",
    "    song_name = song_name_id[:-27]\n",
    "    song_id = song_name_id[-26:-4] \n",
    "    track_name_to_id[song_name] = song_id\n"
   ],
   "outputs": [],
   "execution_count": 95
  },
  {
   "metadata": {
    "ExecuteTime": {
     "end_time": "2024-12-02T07:40:04.229732Z",
     "start_time": "2024-12-02T07:40:04.226426Z"
    }
   },
   "cell_type": "code",
   "source": "print(track_name_to_id['Rasputin - Single Version'])",
   "outputs": [
    {
     "name": "stdout",
     "output_type": "stream",
     "text": [
      "67hbP9PFQZrb4XZc3TzB0s\n"
     ]
    }
   ],
   "execution_count": 96
  },
  {
   "metadata": {
    "ExecuteTime": {
     "end_time": "2024-12-02T07:00:36.706128Z",
     "start_time": "2024-12-02T07:00:36.702920Z"
    }
   },
   "cell_type": "code",
   "source": "print(track_name_to_id['$20 Fine'])",
   "outputs": [
    {
     "name": "stdout",
     "output_type": "stream",
     "text": [
      "7pse475uICmWRY5hEkvPvI\n"
     ]
    }
   ],
   "execution_count": 82
  },
  {
   "metadata": {
    "ExecuteTime": {
     "end_time": "2024-12-02T07:00:36.793530Z",
     "start_time": "2024-12-02T07:00:36.788824Z"
    }
   },
   "cell_type": "code",
   "source": [
    "n = 5\n",
    "for it in track_id_to_name:\n",
    "    print(it)\n",
    "    n-=1\n",
    "    if n==0:\n",
    "        break"
   ],
   "outputs": [
    {
     "name": "stdout",
     "output_type": "stream",
     "text": [
      "0017A6SJgTbfQVU2EtsPNo\n",
      "004s3t0ONYlzxII9PLgU6z\n",
      "00chLpzhgVjxs1zKC9UScL\n",
      "00cqd6ZsSkLZqGMlQCR0Zo\n",
      "00emjlCv9azBN0fzuuyLqy\n"
     ]
    }
   ],
   "execution_count": 83
  },
  {
   "metadata": {
    "ExecuteTime": {
     "end_time": "2024-12-02T07:00:45.542532Z",
     "start_time": "2024-12-02T07:00:45.539028Z"
    }
   },
   "cell_type": "code",
   "source": "print(track_id_to_name['0017A6SJgTbfQVU2EtsPNo'])\n",
   "outputs": [
    {
     "name": "stdout",
     "output_type": "stream",
     "text": [
      "Pangarap\n"
     ]
    }
   ],
   "execution_count": 84
  },
  {
   "metadata": {},
   "cell_type": "code",
   "outputs": [],
   "execution_count": null,
   "source": [
    "\n",
    "# Adapters\n",
    "def track_id_to_index(track_id):\n",
    "    # map the track_id to its index, track_id is a list\n",
    "    for idx, id in enumerate(track_ids):\n",
    "        if id == track_id:\n",
    "            return idx"
   ]
  },
  {
   "cell_type": "code",
   "metadata": {
    "ExecuteTime": {
     "end_time": "2024-12-02T07:02:54.836812Z",
     "start_time": "2024-12-02T07:02:54.823596Z"
    }
   },
   "source": [
    "import re\n",
    "def parser(consulta):\n",
    "    resultado_final=[]\n",
    "    metodo = r\"using\\s+([a-zA-Z0-9_]+)\" \n",
    "    song_name__ = r\"where song_name\\s*=\\s+'(.*?)'\\s+\"\n",
    "    \n",
    "    top_k = r\"LIMIT\\s+([\\d.]+)\" \n",
    "\n",
    "    # Extraemos los valores usando `re.search`\n",
    "    metodoknn = re.search(metodo, consulta)\n",
    "    song_id_pre = re.search(song_name__, consulta)\n",
    "    pre_top_k = re.search(top_k, consulta)\n",
    "    metodofinal = metodoknn.group(1) \n",
    "    song_name_final = song_id_pre.group(1)\n",
    "    final_top_k = pre_top_k.group(1)\n",
    "    \n",
    "    song_id_final = get_pos_by_name(song_name_final) # adapted to support song names\n",
    "    \n",
    "    if metodofinal=='knn_top_R_tree':\n",
    "        song_idx = int(song_id_final)\n",
    "        query_vectors = features_pca[song_idx * 20 : (song_idx + 1) * 20]\n",
    "        result, time_search = knn_top_R_tree(rtree_index, features_pca, track_ids, query_vectors, k=int(final_top_k)) # Llamar a la función con k=3\n",
    "        # agregar los resultados\n",
    "        for i, (song_id, votes) in enumerate(result, 1):\n",
    "            resultado_final.append(song_id)\n",
    "    if metodofinal=='knn_top_lineal':\n",
    "        indicecancion = int(song_id_final)\n",
    "        query = features_pca[indicecancion * 20 : (indicecancion + 1) * 20]  # consulta\n",
    "        top_k =int(final_top_k)  #cuantos k vecinos cercanos quiero\n",
    "        result, time_search = knn_top_lineal(features_pca, track_ids, query, top_k)\n",
    "        for i, (song_id, votes) in enumerate(result, 1):\n",
    "            resultado_final.append(song_id)\n",
    "    if metodofinal=='knn_busquedarango_lineal':\n",
    "        indicecancion = int(song_id_final)\n",
    "        query = features_pca[indicecancion * 20 : (indicecancion + 1) * 20]\n",
    "        radio = float(final_top_k) \n",
    "        result = knn_busquedarango_lineal(features_pca, track_ids, query,radio)\n",
    "        for i, (song_id, votes) in enumerate(result, 1):\n",
    "            resultado_final.append(song_id)\n",
    "    if metodofinal=='knn_search_lsh':\n",
    "        query_index = int(song_id_final)\n",
    "        k = int(final_top_k) \n",
    "        resultado_final, time_search = knn_search_lsh(query_index, k)\n",
    "       \n",
    "    track_names_result = [track_id_to_name[track_id] for track_id in resultado_final]\n",
    "  \n",
    "    return pd.DataFrame.from_dict({'Indices': track_names_result}), time_search\n",
    "    \n"
   ],
   "outputs": [],
   "execution_count": 85
  },
  {
   "cell_type": "markdown",
   "metadata": {},
   "source": [
    "consultas para utilizar:\n",
    "\"select song_id from spotify_songs using knn_top_lineal where song_name = '0' LIMIT 7\"\n",
    "\n",
    "\n",
    "\"select song_id from spotify_songs using knn_top_R_tree where song_name = '0' LIMIT 7\"\n",
    "\n",
    "\n",
    "\"select song_id from spotify_songs using knn_top_R_tree where song_name = '5' LIMIT 7\"\n",
    "\n",
    "\n",
    "\"select song_id from spotify_songs using knn_top_lineal where song_name = '5' LIMIT 7\"\n",
    "\n",
    "\n",
    "\"select song_id from spotify_songs using knn_busquedarango_lineal where song_name = '0' LIMIT 0.3\"\n",
    "\n",
    "\n",
    "\"select song_id from spotify_songs using knn_top_R_tree where song_name = '12' LIMIT 5\"\n",
    "\n",
    "\n",
    "\"select song_id from spotify_songs using knn_top_lineal where song_name = '12' LIMIT 5\"\n",
    "\n",
    "\n",
    "\"select song_id from spotify_songs using knn_top_R_tree where song_name = '40' LIMIT 12\"\n",
    "\n",
    "\n",
    "\"select song_id from spotify_songs using knn_top_lineal where song_name = '40' LIMIT 12\""
   ]
  },
  {
   "cell_type": "code",
   "metadata": {
    "ExecuteTime": {
     "end_time": "2024-12-02T07:02:57.765494Z",
     "start_time": "2024-12-02T07:02:57.731893Z"
    }
   },
   "source": [
    "name_song = \"'98 Freestyle\"\n",
    "consulta = f\"select song_id from spotify_songs using knn_search_lsh where song_name = '{name_song}' LIMIT 5\"\n",
    "list_result, time_exec = parser(consulta)\n",
    "print(type(list_result), type(time_exec))\n"
   ],
   "outputs": [
    {
     "name": "stdout",
     "output_type": "stream",
     "text": [
      "Búsqueda k-NN para el objeto en el índice 4 (k=5):\n",
      "Distancias: [  0. 408. 410. 410. 411.]\n",
      "Índices: [     4  47516  89032 201079 147197]\n",
      "Track IDs: ['7pse475uICmWRY5hEkvPvI', '1OBD6ZyBF8oYm4PRHt42zv', '3p7byaSR5J1he8vvDkxirp', '3ZjnFYlal0fXN6t61wdxhl', '4FtuDjqmTPP9mjxygLKzEm']\n",
      "Tiempo de búsqueda k-NN: 0.02 segundos\n",
      "<class 'pandas.core.frame.DataFrame'> <class 'float'>\n"
     ]
    }
   ],
   "execution_count": 86
  },
  {
   "metadata": {},
   "cell_type": "markdown",
   "source": "# FRONT"
  },
  {
   "metadata": {
    "ExecuteTime": {
     "end_time": "2024-12-02T05:12:18.617066Z",
     "start_time": "2024-12-02T05:12:18.576336Z"
    }
   },
   "cell_type": "code",
   "source": [
    "import gradio as gr\n",
    "import os\n",
    "\n",
    "def load_full_path_songs(directory):\n",
    "\n",
    "    full_paths = {}\n",
    "    for archivo in os.listdir(directory):\n",
    "        try:\n",
    "            name_id = archivo[:-27] # remove id.mp3\n",
    "            \n",
    "            full_paths[name_id] = os.path.join(directory, archivo)\n",
    "        except :\n",
    "            print(f\"Error en {archivo}\")\n",
    "    # map the track_names to the song path\n",
    "    return full_paths\n",
    "\n",
    "def get_audio_by_name(name):\n",
    "    # map the name to the id\n",
    "    return full_path_songs[name]\n",
    "\n",
    "full_path_songs = load_full_path_songs(r'..\\data_extraction\\data_previews')\n",
    "\n",
    "def get_pos_by_name(name):\n",
    "    song_id_ = track_name_to_id[name]\n",
    "    return track_id_to_index(song_id_)"
   ],
   "outputs": [],
   "execution_count": 43
  },
  {
   "metadata": {
    "ExecuteTime": {
     "end_time": "2024-12-02T05:03:51.450367Z",
     "start_time": "2024-12-02T05:03:51.446373Z"
    }
   },
   "cell_type": "code",
   "source": "print(full_path_songs['$20 Fine'])",
   "outputs": [
    {
     "name": "stdout",
     "output_type": "stream",
     "text": [
      "..\\data_extraction\\data_previews\\$20 Fine_7pse475uICmWRY5hEkvPvI.mp3\n"
     ]
    }
   ],
   "execution_count": 40
  },
  {
   "metadata": {
    "ExecuteTime": {
     "end_time": "2024-12-02T05:03:54.591486Z",
     "start_time": "2024-12-02T05:03:54.586562Z"
    }
   },
   "cell_type": "code",
   "source": [
    "itt = 5\n",
    "for it in full_path_songs:\n",
    "    print(it)\n",
    "    itt-=1\n",
    "    if itt==0:\n",
    "        break"
   ],
   "outputs": [
    {
     "name": "stdout",
     "output_type": "stream",
     "text": [
      "$20 Fine\n",
      "$ave Dat Money (feat. Fetty Wap & Rich Homie Quan)\n",
      "$Dreams\n",
      "$ENHOR\n",
      "'98 Freestyle\n"
     ]
    }
   ],
   "execution_count": 41
  },
  {
   "metadata": {
    "ExecuteTime": {
     "end_time": "2024-12-02T08:08:52.303722Z",
     "start_time": "2024-12-02T08:08:52.291162Z"
    }
   },
   "cell_type": "code",
   "source": [
    "\n",
    "def interface_song_names():\n",
    "    # Lista ordenada de nombres de canciones\n",
    "    all_song_names = sorted(list(full_path_songs.keys()))\n",
    "\n",
    "    with gr.Blocks(theme='HaleyCH/HaleyCH_Theme') as interfaz_final:\n",
    "        gr.Markdown(\"# Spotify Songs Search Engine 🎶\")\n",
    "\n",
    "        with gr.Row():\n",
    "            # Reproductor de canciones\n",
    "            with gr.Column(scale=1):\n",
    "                gr.Markdown(\"## 🎵 Song Player\")\n",
    "                nombre_dropdown = gr.Dropdown(\n",
    "                    choices=all_song_names,\n",
    "                    label=\"Select a Song\",\n",
    "                    allow_custom_value=True\n",
    "                )\n",
    "                audio_output = gr.Audio(\n",
    "                    type=\"filepath\",\n",
    "                    label=\"Song Preview\"\n",
    "                )\n",
    "\n",
    "                # Boton para reproducir\n",
    "                play_btn = gr.Button(\"Play Preview\", variant=\"primary\")\n",
    "                play_btn.click(\n",
    "                    fn=get_audio_by_name,\n",
    "                    inputs=nombre_dropdown,\n",
    "                    outputs=audio_output\n",
    "                )\n",
    "\n",
    "            # Parser de busqueda\n",
    "            with gr.Column(scale=1):\n",
    "                gr.Markdown(\"## 🔍 Song Search\")\n",
    "                parser_input = gr.Textbox(\n",
    "                    label=\"Search Query\",\n",
    "                    placeholder=\"Enter your search query\"\n",
    "                )\n",
    "                parser_output = gr.Dataframe(\n",
    "                    label=\"Similar Song IDs\",\n",
    "                    headers=None,\n",
    "                    datatype=\"str\",\n",
    "                )\n",
    "                tiempo_ejecucion = gr.Textbox(\n",
    "                    label=\"Execution Time (seconds)\",\n",
    "                    interactive=False\n",
    "                )\n",
    "\n",
    "                # Boton para buscar\n",
    "                search_btn = gr.Button(\"Search\", variant=\"primary\")\n",
    "                search_btn.click(\n",
    "                    fn=parser,\n",
    "                    inputs=parser_input,\n",
    "                    outputs=[parser_output, tiempo_ejecucion]\n",
    "                )\n",
    "                examples = gr.Examples(examples=[\n",
    "                    \"\"\"\n",
    "                    select song_id from spotify_songs using knn_search_lsh where song_name = '$20 Fine' LIMIT 5 \n",
    "                    \"\"\",\n",
    "                    \"\"\"\n",
    "                    select song_id from spotify_songs using knn_search_lsh where song_name = ''98 Freestyle' LIMIT 5 \n",
    "                    \"\"\",\n",
    "                ], inputs=[parser_input])\n",
    "\n",
    "    return interfaz_final\n"
   ],
   "outputs": [],
   "execution_count": 101
  },
  {
   "metadata": {
    "ExecuteTime": {
     "end_time": "2024-12-02T08:09:15.350477Z",
     "start_time": "2024-12-02T08:08:54.347414Z"
    }
   },
   "cell_type": "code",
   "source": [
    "\n",
    "interfaz = interface_song_names()\n",
    "interfaz.launch( \n",
    "    debug=True ,\n",
    "    allowed_paths=[r\"..\\data_extraction\\data_previews\"]\n",
    ")\n"
   ],
   "outputs": [
    {
     "name": "stdout",
     "output_type": "stream",
     "text": [
      "* Running on local URL:  http://127.0.0.1:7860\n",
      "\n",
      "To create a public link, set `share=True` in `launch()`.\n"
     ]
    },
    {
     "data": {
      "text/plain": [
       "<IPython.core.display.HTML object>"
      ],
      "text/html": [
       "<div><iframe src=\"http://127.0.0.1:7860/\" width=\"100%\" height=\"500\" allow=\"autoplay; camera; microphone; clipboard-read; clipboard-write;\" frameborder=\"0\" allowfullscreen></iframe></div>"
      ]
     },
     "metadata": {},
     "output_type": "display_data"
    },
    {
     "name": "stdout",
     "output_type": "stream",
     "text": [
      "Keyboard interruption in main thread... closing server.\n"
     ]
    },
    {
     "data": {
      "text/plain": []
     },
     "execution_count": 102,
     "metadata": {},
     "output_type": "execute_result"
    }
   ],
   "execution_count": 102
  },
  {
   "metadata": {
    "ExecuteTime": {
     "end_time": "2024-12-02T08:30:31.527352Z",
     "start_time": "2024-12-02T08:30:31.523054Z"
    }
   },
   "cell_type": "code",
   "source": "interfaz.close()",
   "outputs": [
    {
     "name": "stdout",
     "output_type": "stream",
     "text": [
      "Closing server running on port: 7860\n"
     ]
    }
   ],
   "execution_count": 104
  }
 ],
 "metadata": {
  "kernelspec": {
   "display_name": "base",
   "language": "python",
   "name": "python3"
  },
  "language_info": {
   "codemirror_mode": {
    "name": "ipython",
    "version": 3
   },
   "file_extension": ".py",
   "mimetype": "text/x-python",
   "name": "python",
   "nbconvert_exporter": "python",
   "pygments_lexer": "ipython3",
   "version": "3.11.5"
  }
 },
 "nbformat": 4,
 "nbformat_minor": 2
}
