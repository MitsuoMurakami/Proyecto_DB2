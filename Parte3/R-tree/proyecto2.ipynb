{
 "cells": [
  {
   "cell_type": "code",
   "execution_count": 4,
   "metadata": {},
   "outputs": [
    {
     "ename": "FileNotFoundError",
     "evalue": "[Errno 2] No such file or directory: 'pca_features.pkl'",
     "output_type": "error",
     "traceback": [
      "\u001b[1;31m---------------------------------------------------------------------------\u001b[0m",
      "\u001b[1;31mFileNotFoundError\u001b[0m                         Traceback (most recent call last)",
      "Cell \u001b[1;32mIn[4], line 5\u001b[0m\n\u001b[0;32m      3\u001b[0m \u001b[38;5;28;01mimport\u001b[39;00m \u001b[38;5;21;01mheapq\u001b[39;00m\n\u001b[0;32m      4\u001b[0m \u001b[38;5;66;03m# load the data\u001b[39;00m\n\u001b[1;32m----> 5\u001b[0m \u001b[38;5;28;01mwith\u001b[39;00m \u001b[38;5;28;43mopen\u001b[39;49m\u001b[43m(\u001b[49m\u001b[38;5;124;43m\"\u001b[39;49m\u001b[38;5;124;43mpca_features.pkl\u001b[39;49m\u001b[38;5;124;43m\"\u001b[39;49m\u001b[43m,\u001b[49m\u001b[43m \u001b[49m\u001b[38;5;124;43m\"\u001b[39;49m\u001b[38;5;124;43mrb\u001b[39;49m\u001b[38;5;124;43m\"\u001b[39;49m\u001b[43m)\u001b[49m \u001b[38;5;28;01mas\u001b[39;00m file:\n\u001b[0;32m      6\u001b[0m     track_ids \u001b[38;5;241m=\u001b[39m pickle\u001b[38;5;241m.\u001b[39mload(file)\n\u001b[0;32m      7\u001b[0m     features_pca \u001b[38;5;241m=\u001b[39m pickle\u001b[38;5;241m.\u001b[39mload(file)\n",
      "File \u001b[1;32m~\\AppData\\Roaming\\Python\\Python311\\site-packages\\IPython\\core\\interactiveshell.py:308\u001b[0m, in \u001b[0;36m_modified_open\u001b[1;34m(file, *args, **kwargs)\u001b[0m\n\u001b[0;32m    301\u001b[0m \u001b[38;5;28;01mif\u001b[39;00m file \u001b[38;5;129;01min\u001b[39;00m {\u001b[38;5;241m0\u001b[39m, \u001b[38;5;241m1\u001b[39m, \u001b[38;5;241m2\u001b[39m}:\n\u001b[0;32m    302\u001b[0m     \u001b[38;5;28;01mraise\u001b[39;00m \u001b[38;5;167;01mValueError\u001b[39;00m(\n\u001b[0;32m    303\u001b[0m         \u001b[38;5;124mf\u001b[39m\u001b[38;5;124m\"\u001b[39m\u001b[38;5;124mIPython won\u001b[39m\u001b[38;5;124m'\u001b[39m\u001b[38;5;124mt let you open fd=\u001b[39m\u001b[38;5;132;01m{\u001b[39;00mfile\u001b[38;5;132;01m}\u001b[39;00m\u001b[38;5;124m by default \u001b[39m\u001b[38;5;124m\"\u001b[39m\n\u001b[0;32m    304\u001b[0m         \u001b[38;5;124m\"\u001b[39m\u001b[38;5;124mas it is likely to crash IPython. If you know what you are doing, \u001b[39m\u001b[38;5;124m\"\u001b[39m\n\u001b[0;32m    305\u001b[0m         \u001b[38;5;124m\"\u001b[39m\u001b[38;5;124myou can use builtins\u001b[39m\u001b[38;5;124m'\u001b[39m\u001b[38;5;124m open.\u001b[39m\u001b[38;5;124m\"\u001b[39m\n\u001b[0;32m    306\u001b[0m     )\n\u001b[1;32m--> 308\u001b[0m \u001b[38;5;28;01mreturn\u001b[39;00m \u001b[43mio_open\u001b[49m\u001b[43m(\u001b[49m\u001b[43mfile\u001b[49m\u001b[43m,\u001b[49m\u001b[43m \u001b[49m\u001b[38;5;241;43m*\u001b[39;49m\u001b[43margs\u001b[49m\u001b[43m,\u001b[49m\u001b[43m \u001b[49m\u001b[38;5;241;43m*\u001b[39;49m\u001b[38;5;241;43m*\u001b[39;49m\u001b[43mkwargs\u001b[49m\u001b[43m)\u001b[49m\n",
      "\u001b[1;31mFileNotFoundError\u001b[0m: [Errno 2] No such file or directory: 'pca_features.pkl'"
     ]
    }
   ],
   "source": [
    "import pickle\n",
    "import numpy as np\n",
    "import heapq\n",
    "# load the data\n",
    "with open(\"pca_features.pkl\", \"rb\") as file:\n",
    "    track_ids = pickle.load(file)\n",
    "    features_pca = pickle.load(file)"
   ]
  },
  {
   "cell_type": "code",
   "execution_count": 2,
   "metadata": {},
   "outputs": [
    {
     "name": "stdout",
     "output_type": "stream",
     "text": [
      "1.0.1\n"
     ]
    }
   ],
   "source": [
    "import rtree\n",
    "print(rtree.__version__)"
   ]
  },
  {
   "cell_type": "code",
   "execution_count": 4,
   "metadata": {},
   "outputs": [
    {
     "name": "stdout",
     "output_type": "stream",
     "text": [
      "11883\n",
      "(237660, 154)\n"
     ]
    }
   ],
   "source": [
    "print(len(track_ids))\n",
    "print((features_pca).shape)"
   ]
  },
  {
   "cell_type": "code",
   "execution_count": 5,
   "metadata": {},
   "outputs": [
    {
     "name": "stderr",
     "output_type": "stream",
     "text": [
      "Indexando vectores en R-Tree: 100%|██████████| 237660/237660 [20:14<00:00, 195.71it/s]\n"
     ]
    }
   ],
   "source": [
    "from rtree import index\n",
    "from tqdm import tqdm\n",
    "\n",
    "p = index.Property()\n",
    "p.dimension = 154 \n",
    "rtree_index = index.Index(properties=p)\n",
    "\n",
    "total_vectors = len(track_ids) * 20  # Total de vectores para indexar\n",
    "with tqdm(total=total_vectors, desc=\"Indexando vectores en R-Tree\") as pbar:\n",
    "    for song_idx, track_id in enumerate(track_ids):  # Iterando en las canciones\n",
    "        for local_idx in range(20):  # Cada canción tiene 20 descriptores\n",
    "            global_idx = song_idx * 20 + local_idx  # Índice global en features_pca\n",
    "            vector = features_pca[global_idx]  # Obtener el vector local\n",
    "            rtree_index.insert(global_idx, vector)  # Insertar en el R-Tree\n",
    "            pbar.update(1)  # Incrementar la barra de progreso"
   ]
  },
  {
   "cell_type": "code",
   "execution_count": 20,
   "metadata": {},
   "outputs": [],
   "source": [
    "from collections import Counter\n",
    "import numpy as np\n",
    "def knn_top_R_tree(rtree_index, features_pca, track_ids, query_vectors, k=2):\n",
    "    \"\"\"\n",
    "    Realiza una búsqueda KNN en un R-Tree para 20 vectores de una canción y retorna las `k` canciones más cercanas.\n",
    "\n",
    "    Parámetros:\n",
    "        rtree_index (rtree.index.Index): Índice R-Tree construido con los vectores PCA.\n",
    "        features_pca (np.ndarray): Matriz de vectores PCA.\n",
    "        track_ids (list): Lista de IDs de canciones, uno por canción.\n",
    "        query_vectors (np.ndarray): 20 vectores de consulta en el espacio PCA (de una canción).\n",
    "        k (int): Número de canciones más cercanas a retornar.\n",
    "\n",
    "    Retorna:\n",
    "        list: Lista de las `k` canciones más cercanas, en formato:\n",
    "              [(track_id1, votos1), (track_id2, votos2), ...].\n",
    "    \"\"\"\n",
    "\n",
    "    # Acumular resultados de los 20 vectores\n",
    "    all_neighbors = []\n",
    "\n",
    "    for query_vector in query_vectors:\n",
    "        # Búsqueda KNN para cada vector de consulta\n",
    "        nearest_neighbors = list(rtree_index.nearest(query_vector, num_results=20))  # Buscar 20 vecinos por vector ya que cada cancion tiene 20 vectores caracteristicos\n",
    "        all_neighbors.extend(nearest_neighbors)\n",
    "\n",
    "    # Asociar vecinos con sus canciones\n",
    "    song_indices = [neighbor // 20 for neighbor in all_neighbors]  # Índices de canciones\n",
    "    track_id_votes = [track_ids[song_idx] for song_idx in song_indices]  # Mapear a track_ids\n",
    "\n",
    "    # Votación mayoritaria\n",
    "    song_counts = Counter(track_id_votes)\n",
    "    top_songs = song_counts.most_common(k)  # Seleccionar las `k` canciones más votadas\n",
    "\n",
    "    return top_songs\n",
    "def knn_top_lineal(cancionesc,track_ids,consultas, top_k):\n",
    "    all_neighbors=[]\n",
    "    \n",
    "    for consulta in consultas:\n",
    "        nearest_neighbors = [(-float('inf'), -1)] * 20 #20 caracteristicas\n",
    "        for i, embedding in enumerate(cancionesc):\n",
    "            dist = -np.linalg.norm(consulta - embedding)#consigo mi distancia euclidiana invertida para usar como max-heap\n",
    "            if dist > nearest_neighbors[0][0]:\n",
    "                heapq.heappop(nearest_neighbors)\n",
    "                heapq.heappush(nearest_neighbors, (dist, i))\n",
    "        nearest_neighbors = [i for dit, i in nearest_neighbors]\n",
    "        all_neighbors.extend(nearest_neighbors)\n",
    "\n",
    "    song_indices = [neighbor // 20 for neighbor in all_neighbors]\n",
    "    track_id_votes = [track_ids[song_idx] for song_idx in song_indices]\n",
    "\n",
    "    song_counts = Counter(track_id_votes)\n",
    "    top_songs = song_counts.most_common(top_k)  \n",
    "\n",
    "    return top_songs\n",
    "def knn_busquedarango_lineal(cancionesc, track_ids, consultas,radio):\n",
    "    all_neighbors = []\n",
    "    distancias = [] \n",
    "\n",
    "    for consulta in consultas:\n",
    "        nearest_neighbors = [(-float('inf'), -1)] * 20  # 20 características\n",
    "        for i, embedding in enumerate(cancionesc):\n",
    "            dist = -np.linalg.norm(consulta - embedding)  # Distancia euclidiana invertida para max-heap\n",
    "            if dist > nearest_neighbors[0][0]:\n",
    "                heapq.heappop(nearest_neighbors)\n",
    "                heapq.heappush(nearest_neighbors, (dist, i))\n",
    "        nearest_neighbors = [(dit, i) for dit, i in nearest_neighbors]\n",
    "        all_neighbors.extend([i for dit, i in nearest_neighbors])\n",
    "        distancias.extend([-dit for dit, i in nearest_neighbors])  \n",
    "\n",
    "    song_indices = [neighbor // 20 for neighbor in all_neighbors]\n",
    "    track_id_votes = [track_ids[song_idx] for song_idx in song_indices] \n",
    "    song_counts = Counter(track_id_votes)\n",
    "\n",
    "    track_id_distancias = {}\n",
    "    for idx, track_id in enumerate(track_id_votes):\n",
    "        if track_id not in track_id_distancias:\n",
    "            track_id_distancias[track_id] = []\n",
    "        track_id_distancias[track_id].append(distancias[idx])\n",
    "    distancias_canciones = [(song_id, votes, np.mean(track_id_distancias[song_id])) for song_id, votes in song_counts.most_common()]\n",
    "    top_songs = []\n",
    "    for i, (song_id, votes, avg_dist) in enumerate(distancias_canciones):\n",
    "        if i < 10 or avg_dist <= radio:\n",
    "            top_songs.append((song_id, votes))\n",
    "\n",
    "    return top_songs\n",
    "\n",
    "\n"
   ]
  },
  {
   "cell_type": "code",
   "execution_count": 37,
   "metadata": {},
   "outputs": [
    {
     "name": "stdout",
     "output_type": "stream",
     "text": [
      "['7pse475uICmWRY5hEkvPvI', '5CwOUooch74h0XarhDfAQK', '3bZCS8ThTAxMJZavYWOY1z', '1U2xFfjK1QUuicENnW0iwv', '6MGryNr7aENIEfPUV1cHyg', '3OiEY2VLzrTyCoU8q2SQpe', '1oy6EH41CdAido7rIuuFzY', '2vPZ4Lklyu75zBR3SgbFNI']\n"
     ]
    }
   ],
   "source": [
    "song_idx = 0\n",
    "query_vectors = features_pca[song_idx * 20 : (song_idx + 1) * 20]\n",
    "result = knn_top_R_tree(rtree_index, features_pca, track_ids, query_vectors, k=8) # Llamar a la función con k=3\n",
    "resultado_final=[]\n",
    "# Mostrar resultados\n",
    "for i, (song_id, votes) in enumerate(result, 1):\n",
    "    resultado_final.append(song_id)\n",
    "print(resultado_final)"
   ]
  },
  {
   "cell_type": "code",
   "execution_count": 1,
   "metadata": {},
   "outputs": [
    {
     "name": "stdout",
     "output_type": "stream",
     "text": [
      "Tiempo de indexación (LSH): 6.56 segundos\n"
     ]
    }
   ],
   "source": [
    "# Indice LSH\n",
    "# Librería faiss\n",
    "\n",
    "import faiss\n",
    "import numpy as np\n",
    "import pickle\n",
    "import time\n",
    "\n",
    "# N = 11903  # Número de canciones (features)\n",
    "\n",
    "\n",
    "# Cargar los datos\n",
    "with open(\"feature_spotify.pkl\", \"rb\") as file:\n",
    "    track_ids = pickle.load(file)\n",
    "    features = pickle.load(file)\n",
    "\n",
    "# Validar que track_ids y features tengan el mismo tamaño\n",
    "assert len(track_ids) == len(features), \"track_ids y features no están alineados.\"\n",
    "\n",
    "# Aplanar los vectores y alinear los IDs\n",
    "features_flat = []\n",
    "track_ids_flat = []\n",
    "\n",
    "for idx, (track_id, feature_vectors) in enumerate(zip(track_ids, features)):\n",
    "    if len(feature_vectors) > 0 and len(feature_vectors[0]) == 1280:  # Validar dimensión\n",
    "        features_flat.extend(feature_vectors)  # Aplanar vectores\n",
    "        track_ids_flat.extend([track_id] * len(feature_vectors))  # Repetir track_id\n",
    "\n",
    "features_flat = np.array(features_flat, dtype=\"float32\")  # Convertir a arreglo numpy\n",
    "\n",
    "# Crear el índice LSH\n",
    "n_bits = 1024  # Número de bits para el hash LSH\n",
    "index_lsh = faiss.IndexLSH(1280, n_bits)\n",
    "\n",
    "# Indexación\n",
    "start_time = time.time()\n",
    "index_lsh.add(features_flat)\n",
    "indexation_time = time.time() - start_time\n",
    "print(f\"Tiempo de indexación (LSH): {indexation_time:.2f} segundos\")\n"
   ]
  },
  {
   "cell_type": "code",
   "execution_count": 3,
   "metadata": {},
   "outputs": [],
   "source": [
    "# Función de búsqueda K-NN\n",
    "def knn_search_lsh(query_index, k):\n",
    "    query_vector = features_flat[query_index].reshape(1, -1)\n",
    "    start_time = time.time()\n",
    "    D, I = index_lsh.search(query_vector, k)\n",
    "    search_time = time.time() - start_time\n",
    "    \n",
    "    print(f\"Búsqueda k-NN para el objeto en el índice {query_index} (k={k}):\")\n",
    "    print(\"Distancias:\", D[0])\n",
    "    print(\"Índices:\", I[0])\n",
    "    \n",
    "    # Imprimir los track_ids correspondientes\n",
    "    result_ids = [track_ids_flat[idx] for idx in I[0] if idx != -1]  # Ignorar índices inválidos\n",
    "    print(\"Track IDs:\", result_ids)\n",
    "    print(f\"Tiempo de búsqueda k-NN: {search_time:.2f} segundos\")\n",
    "    \n",
    "    return result_ids, search_time\n",
    "\n",
    "\n",
    "# Índice de consulta\n",
    "# query_index = 100 # Canción de consulta\n",
    "# k = 8       # Número de vecinos más cercanos\n",
    "\n",
    "# print(\"Buscar: \", track_ids_flat[query_index])\n",
    "\n",
    "# print()\n",
    "# # Ejecutar búsqueda K-NN\n",
    "# knn_res = knn_search_lsh(query_index, k)\n"
   ]
  },
  {
   "cell_type": "markdown",
   "metadata": {},
   "source": [
    "Parser\n"
   ]
  },
  {
   "cell_type": "code",
   "execution_count": 2,
   "metadata": {},
   "outputs": [],
   "source": [
    "import re\n",
    "def parser(consulta):\n",
    "    resultado_final=[]\n",
    "    metodo = r\"using\\s+([a-zA-Z0-9_]+)\" \n",
    "    song_id = r\"where song_id\\s*=\\s*'([^']+)'\"  \n",
    "    top_k = r\"LIMIT\\s+([\\d.]+)\" \n",
    "\n",
    "    # Extraemos los valores usando `re.search`\n",
    "    metodoknn = re.search(metodo, consulta)\n",
    "    song_id_pre = re.search(song_id, consulta)\n",
    "    pre_top_k = re.search(top_k, consulta)\n",
    "    metodofinal = metodoknn.group(1) \n",
    "    song_id_final = song_id_pre.group(1)\n",
    "    final_top_k = pre_top_k.group(1) \n",
    "    if metodofinal=='knn_top_R_tree':\n",
    "        song_idx = int(song_id_final)\n",
    "        query_vectors = features_pca[song_idx * 20 : (song_idx + 1) * 20]\n",
    "        result = knn_top_R_tree(rtree_index, features_pca, track_ids, query_vectors, k=int(final_top_k)) # Llamar a la función con k=3\n",
    "        # agregar los resultados\n",
    "        for i, (song_id, votes) in enumerate(result, 1):\n",
    "            resultado_final.append(song_id)\n",
    "    if metodofinal=='knn_top_lineal':\n",
    "        indicecancion = int(song_id_final)\n",
    "        query = features_pca[indicecancion * 20 : (indicecancion + 1) * 20]  # consulta\n",
    "        top_k =int(final_top_k)  #cuantos k vecinos cercanos quiero\n",
    "        result = knn_top_lineal(features_pca, track_ids, query, top_k)\n",
    "        for i, (song_id, votes) in enumerate(result, 1):\n",
    "            resultado_final.append(song_id)\n",
    "    if metodofinal=='knn_busquedarango_lineal':\n",
    "        indicecancion = int(song_id_final)\n",
    "        query = features_pca[indicecancion * 20 : (indicecancion + 1) * 20]\n",
    "        radio = float(final_top_k) \n",
    "        result = knn_busquedarango_lineal(features_pca, track_ids, query,radio)\n",
    "        for i, (song_id, votes) in enumerate(result, 1):\n",
    "            resultado_final.append(song_id)\n",
    "    if metodofinal=='knn_search_lsh':\n",
    "        query_index = int(song_id_final)\n",
    "        k = int(final_top_k) \n",
    "        result = knn_search_lsh(query_index, k)\n",
    "        for i, (song_id, votes) in enumerate(result, 1):\n",
    "            resultado_final.append(song_id)\n",
    "\n",
    "    return resultado_final\n",
    "    \n"
   ]
  },
  {
   "cell_type": "markdown",
   "metadata": {},
   "source": [
    "consultas para utilizar:\n",
    "\"select song_id from spotify_songs using knn_top_lineal where song_id = '0' LIMIT 7\"\n",
    "\n",
    "\n",
    "\"select song_id from spotify_songs using knn_top_R_tree where song_id = '0' LIMIT 7\"\n",
    "\n",
    "\n",
    "\"select song_id from spotify_songs using knn_top_R_tree where song_id = '5' LIMIT 7\"\n",
    "\n",
    "\n",
    "\"select song_id from spotify_songs using knn_top_lineal where song_id = '5' LIMIT 7\"\n",
    "\n",
    "\n",
    "\"select song_id from spotify_songs using knn_busquedarango_lineal where song_id = '0' LIMIT 0.3\"\n",
    "\n",
    "\n",
    "\"select song_id from spotify_songs using knn_top_R_tree where song_id = '12' LIMIT 5\"\n",
    "\n",
    "\n",
    "\"select song_id from spotify_songs using knn_top_lineal where song_id = '12' LIMIT 5\"\n",
    "\n",
    "\n",
    "\"select song_id from spotify_songs using knn_top_R_tree where song_id = '40' LIMIT 12\"\n",
    "\n",
    "\n",
    "\"select song_id from spotify_songs using knn_top_lineal where song_id = '40' LIMIT 12\""
   ]
  },
  {
   "cell_type": "code",
   "execution_count": null,
   "metadata": {},
   "outputs": [
    {
     "name": "stdout",
     "output_type": "stream",
     "text": [
      "['4QtiVmuA88tPQiCOHZuQ5b', '4xRxj8myDxZb85dMeCQGWV', '6zeeWid2sgw4lap2jV61PZ', '0usYFHAPoXjEK1UpzwPy0i', '12mGwph2YzDIlChtq3EdXP']\n"
     ]
    },
    {
     "data": {
      "text/plain": [
       "['4QtiVmuA88tPQiCOHZuQ5b', '4xRxj8myDxZb85dMeCQGWV', '0usYFHAPoXjEK1UpzwPy0i']"
      ]
     },
     "execution_count": 56,
     "metadata": {},
     "output_type": "execute_result"
    }
   ],
   "source": [
    "consulta = \"select song_id from spotify_songs using knn_top_R_tree where song_id = '12' LIMIT 5\"\n",
    "print(parser(consulta))\n"
   ]
  }
 ],
 "metadata": {
  "kernelspec": {
   "display_name": "base",
   "language": "python",
   "name": "python3"
  },
  "language_info": {
   "codemirror_mode": {
    "name": "ipython",
    "version": 3
   },
   "file_extension": ".py",
   "mimetype": "text/x-python",
   "name": "python",
   "nbconvert_exporter": "python",
   "pygments_lexer": "ipython3",
   "version": "3.11.5"
  }
 },
 "nbformat": 4,
 "nbformat_minor": 2
}
