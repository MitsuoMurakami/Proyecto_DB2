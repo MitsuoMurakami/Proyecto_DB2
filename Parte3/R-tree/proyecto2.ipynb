{
 "cells": [
  {
   "cell_type": "code",
   "execution_count": 7,
   "metadata": {},
   "outputs": [],
   "source": [
    "import pickle\n",
    "import numpy as np\n",
    "import heapq\n",
    "# load the data\n",
    "with open(\"pca_features.pkl\", \"rb\") as file:\n",
    "    track_ids = pickle.load(file)\n",
    "    features_pca = pickle.load(file)"
   ]
  },
  {
   "cell_type": "code",
   "execution_count": 8,
   "metadata": {},
   "outputs": [
    {
     "name": "stdout",
     "output_type": "stream",
     "text": [
      "1.3.0\n"
     ]
    }
   ],
   "source": [
    "import rtree\n",
    "print(rtree.__version__)"
   ]
  },
  {
   "cell_type": "code",
   "execution_count": 9,
   "metadata": {},
   "outputs": [
    {
     "name": "stdout",
     "output_type": "stream",
     "text": [
      "11883\n",
      "(237660, 154)\n"
     ]
    }
   ],
   "source": [
    "print(len(track_ids))\n",
    "print((features_pca).shape)"
   ]
  },
  {
   "cell_type": "code",
   "execution_count": 10,
   "metadata": {},
   "outputs": [
    {
     "name": "stderr",
     "output_type": "stream",
     "text": [
      "Indexando vectores en R-Tree:   0%|          | 0/237660 [00:00<?, ?it/s]"
     ]
    },
    {
     "name": "stderr",
     "output_type": "stream",
     "text": [
      "Indexando vectores en R-Tree: 100%|██████████| 237660/237660 [12:12<00:00, 324.42it/s]\n"
     ]
    }
   ],
   "source": [
    "from rtree import index\n",
    "from tqdm import tqdm\n",
    "\n",
    "p = index.Property()\n",
    "p.dimension = 154 \n",
    "rtree_index = index.Index(properties=p)\n",
    "\n",
    "total_vectors = len(track_ids) * 20  # Total de vectores para indexar\n",
    "with tqdm(total=total_vectors, desc=\"Indexando vectores en R-Tree\") as pbar:\n",
    "    for song_idx, track_id in enumerate(track_ids):  # Iterando en las canciones\n",
    "        for local_idx in range(20):  # Cada canción tiene 20 descriptores\n",
    "            global_idx = song_idx * 20 + local_idx  # Índice global en features_pca\n",
    "            vector = features_pca[global_idx]  # Obtener el vector local\n",
    "            rtree_index.insert(global_idx, vector)  # Insertar en el R-Tree\n",
    "            pbar.update(1)  # Incrementar la barra de progreso"
   ]
  },
  {
   "cell_type": "code",
   "execution_count": 13,
   "metadata": {},
   "outputs": [],
   "source": [
    "from collections import Counter\n",
    "import numpy as np\n",
    "def knn_top_R_tree(rtree_index, features_pca, track_ids, query_vectors, k=2):\n",
    "    \"\"\"\n",
    "    Realiza una búsqueda KNN en un R-Tree para 20 vectores de una canción y retorna las `k` canciones más cercanas.\n",
    "\n",
    "    Parámetros:\n",
    "        rtree_index (rtree.index.Index): Índice R-Tree construido con los vectores PCA.\n",
    "        features_pca (np.ndarray): Matriz de vectores PCA.\n",
    "        track_ids (list): Lista de IDs de canciones, uno por canción.\n",
    "        query_vectors (np.ndarray): 20 vectores de consulta en el espacio PCA (de una canción).\n",
    "        k (int): Número de canciones más cercanas a retornar.\n",
    "\n",
    "    Retorna:\n",
    "        list: Lista de las `k` canciones más cercanas, en formato:\n",
    "              [(track_id1, votos1), (track_id2, votos2), ...].\n",
    "    \"\"\"\n",
    "\n",
    "    # Acumular resultados de los 20 vectores\n",
    "    all_neighbors = []\n",
    "\n",
    "    for query_vector in query_vectors:\n",
    "        # Búsqueda KNN para cada vector de consulta\n",
    "        nearest_neighbors = list(rtree_index.nearest(query_vector, num_results=20))  # Buscar 20 vecinos por vector ya que cada cancion tiene 20 vectores caracteristicos\n",
    "        all_neighbors.extend(nearest_neighbors)\n",
    "\n",
    "    # Asociar vecinos con sus canciones\n",
    "    song_indices = [neighbor // 20 for neighbor in all_neighbors]  # Índices de canciones\n",
    "    track_id_votes = [track_ids[song_idx] for song_idx in song_indices]  # Mapear a track_ids\n",
    "\n",
    "    # Votación mayoritaria\n",
    "    song_counts = Counter(track_id_votes)\n",
    "    top_songs = song_counts.most_common(k)  # Seleccionar las `k` canciones más votadas\n",
    "\n",
    "    return top_songs\n",
    "def knn_top_lineal(cancionesc,track_ids,consultas, top_k):\n",
    "    all_neighbors=[]\n",
    "    \n",
    "    for consulta in consultas:\n",
    "        nearest_neighbors = [(-float('inf'), -1)] * 20 #20 caracteristicas\n",
    "        for i, embedding in enumerate(cancionesc):\n",
    "            dist = -np.linalg.norm(consulta - embedding)#consigo mi distancia euclidiana invertida para usar como max-heap\n",
    "            if dist > nearest_neighbors[0][0]:\n",
    "                heapq.heappop(nearest_neighbors)\n",
    "                heapq.heappush(nearest_neighbors, (dist, i))\n",
    "        nearest_neighbors = [i for dit, i in nearest_neighbors]\n",
    "        all_neighbors.extend(nearest_neighbors)\n",
    "\n",
    "    song_indices = [neighbor // 20 for neighbor in all_neighbors]\n",
    "    track_id_votes = [track_ids[song_idx] for song_idx in song_indices]\n",
    "\n",
    "    song_counts = Counter(track_id_votes)\n",
    "    top_songs = song_counts.most_common(top_k)  \n",
    "\n",
    "    return top_songs\n",
    "def knn_busquedarango_lineal(cancionesc, track_ids, consultas,radio):\n",
    "    all_neighbors = []\n",
    "    distancias = [] \n",
    "\n",
    "    for consulta in consultas:\n",
    "        nearest_neighbors = [(-float('inf'), -1)] * 20  # 20 características\n",
    "        for i, embedding in enumerate(cancionesc):\n",
    "            dist = -np.linalg.norm(consulta - embedding)  # Distancia euclidiana invertida para max-heap\n",
    "            if dist > nearest_neighbors[0][0]:\n",
    "                heapq.heappop(nearest_neighbors)\n",
    "                heapq.heappush(nearest_neighbors, (dist, i))\n",
    "        nearest_neighbors = [(dit, i) for dit, i in nearest_neighbors]\n",
    "        all_neighbors.extend([i for dit, i in nearest_neighbors])\n",
    "        distancias.extend([-dit for dit, i in nearest_neighbors])  \n",
    "\n",
    "    song_indices = [neighbor // 20 for neighbor in all_neighbors]\n",
    "    track_id_votes = [track_ids[song_idx] for song_idx in song_indices] \n",
    "    song_counts = Counter(track_id_votes)\n",
    "\n",
    "    track_id_distancias = {}\n",
    "    for idx, track_id in enumerate(track_id_votes):\n",
    "        if track_id not in track_id_distancias:\n",
    "            track_id_distancias[track_id] = []\n",
    "        track_id_distancias[track_id].append(distancias[idx])\n",
    "    distancias_canciones = [(song_id, votes, np.mean(track_id_distancias[song_id])) for song_id, votes in song_counts.most_common()]\n",
    "    top_songs = []\n",
    "    for i, (song_id, votes, avg_dist) in enumerate(distancias_canciones):\n",
    "        if i < 10 or avg_dist <= radio:\n",
    "            top_songs.append((song_id, votes))\n",
    "\n",
    "    return top_songs\n",
    "\n",
    "\n"
   ]
  },
  {
   "cell_type": "code",
   "execution_count": 14,
   "metadata": {},
   "outputs": [
    {
     "name": "stdout",
     "output_type": "stream",
     "text": [
      "['7pse475uICmWRY5hEkvPvI', '5CwOUooch74h0XarhDfAQK', '3bZCS8ThTAxMJZavYWOY1z', '1U2xFfjK1QUuicENnW0iwv', '6MGryNr7aENIEfPUV1cHyg', '3OiEY2VLzrTyCoU8q2SQpe', '1oy6EH41CdAido7rIuuFzY', '2vPZ4Lklyu75zBR3SgbFNI']\n"
     ]
    }
   ],
   "source": [
    "song_idx = 0\n",
    "query_vectors = features_pca[song_idx * 20 : (song_idx + 1) * 20]\n",
    "result = knn_top_R_tree(rtree_index, features_pca, track_ids, query_vectors, k=8) # Llamar a la función con k=3\n",
    "resultado_final=[]\n",
    "# Mostrar resultados\n",
    "for i, (song_id, votes) in enumerate(result, 1):\n",
    "    resultado_final.append(song_id)\n",
    "print(resultado_final)"
   ]
  },
  {
   "cell_type": "code",
   "execution_count": 32,
   "metadata": {},
   "outputs": [
    {
     "name": "stdout",
     "output_type": "stream",
     "text": [
      "Número total de canciones: 11883\n",
      "Dimensión de cada vector concatenado: 25600\n",
      "Tiempo de indexación (LSH): 27.30 segundos\n"
     ]
    }
   ],
   "source": [
    "# Indice LSH\n",
    "# Librería faiss\n",
    "\n",
    "import faiss\n",
    "import numpy as np\n",
    "import pickle\n",
    "import time\n",
    "\n",
    "# Cargar los datos\n",
    "with open(\"feature_spotify.pkl\", \"rb\") as file:\n",
    "    track_ids = pickle.load(file)\n",
    "    features = pickle.load(file)\n",
    "\n",
    "# Validar que track_ids y features tengan el mismo tamaño\n",
    "assert len(track_ids) == len(features), \"track_ids y features no están alineados.\"\n",
    "\n",
    "# Aplanar los vectores concatenando 20 vectores en un solo vector de dimensión 25600\n",
    "features_flat = []\n",
    "track_ids_flat = []\n",
    "\n",
    "for idx, (track_id, feature_vectors) in enumerate(zip(track_ids, features)):\n",
    "    if len(feature_vectors) == 20 and len(feature_vectors[0]) == 1280:  # Validar dimensión\n",
    "        concatenated_vector = np.concatenate(feature_vectors)  # Concatenar los 20 vectores\n",
    "        features_flat.append(concatenated_vector)  # Agregar al listado\n",
    "        track_ids_flat.append(track_id)  # Agregar el track_id correspondiente\n",
    "\n",
    "features_flat = np.array(features_flat, dtype=\"float32\")  # Convertir a arreglo numpy\n",
    "\n",
    "print(f\"Número total de canciones: {len(features_flat)}\")\n",
    "print(f\"Dimensión de cada vector concatenado: {features_flat.shape[1]}\")  # Validar dimensión\n",
    "\n",
    "# Crear el índice LSH\n",
    "n_bits = 8192  # Número de bits para el hash LSH\n",
    "n_bits = 16384  # Número de bits para el hash LSH\n",
    "n_bits = len(features_flat*2)\n",
    "index_lsh = faiss.IndexLSH(25600, n_bits)  # Actualizar dimensionalidad\n",
    "\n",
    "# index_lsh.train(features_flat)  # Entrenar el índice LSH\n",
    "\n",
    "# Indexación\n",
    "start_time = time.time()\n",
    "index_lsh.add(features_flat)\n",
    "indexation_time = time.time() - start_time\n",
    "print(f\"Tiempo de indexación (LSH): {indexation_time:.2f} segundos\")\n"
   ]
  },
  {
   "cell_type": "code",
   "execution_count": 33,
   "metadata": {},
   "outputs": [
    {
     "name": "stdout",
     "output_type": "stream",
     "text": [
      "(11883, 25600)\n"
     ]
    }
   ],
   "source": [
    "print(features_flat.shape)"
   ]
  },
  {
   "cell_type": "code",
   "execution_count": 34,
   "metadata": {},
   "outputs": [
    {
     "name": "stdout",
     "output_type": "stream",
     "text": [
      "Buscar:  4QtiVmuA88tPQiCOHZuQ5b\n",
      "\n"
     ]
    }
   ],
   "source": [
    "# Función de búsqueda K-NN\n",
    "def knn_search_lsh(query_index, k):\n",
    "    query_vector = features_flat[query_index].reshape(1, -1)\n",
    "    start_time = time.time()\n",
    "    D, I = index_lsh.search(query_vector, k)\n",
    "    search_time = time.time() - start_time\n",
    "    \n",
    "    # print(f\"Búsqueda k-NN para el objeto en el índice {query_index} (k={k}):\")\n",
    "    # print(\"Distancias:\", D[0])\n",
    "    # print(\"Índices:\", I[0])\n",
    "    \n",
    "    # Imprimir los track_ids correspondientes\n",
    "    result_ids = [track_ids_flat[idx] for idx in I[0] if idx != -1]  # Ignorar índices inválidos\n",
    "    # print(\"Track IDs:\", result_ids)\n",
    "    # print(f\"Tiempo de búsqueda k-NN: {search_time:.2f} segundos\")\n",
    "    \n",
    "    return result_ids\n",
    "\n",
    "\n",
    "# Índice de consulta\n",
    "query_index = 100 # Canción de consulta\n",
    "query_index = 12 # Canción de consulta\n",
    "k = 8       # Número de vecinos más cercanos\n",
    "\n",
    "print(\"Buscar: \", track_ids_flat[query_index])\n",
    "\n",
    "print()\n",
    "# Ejecutar búsqueda K-NN\n",
    "knn_res = knn_search_lsh(query_index, k)\n"
   ]
  },
  {
   "cell_type": "markdown",
   "metadata": {},
   "source": [
    "Parser\n"
   ]
  },
  {
   "cell_type": "code",
   "execution_count": null,
   "metadata": {},
   "outputs": [],
   "source": [
    "import re\n",
    "def parser(consulta):\n",
    "    resultado_final=[]\n",
    "    metodo = r\"using\\s+([a-zA-Z0-9_]+)\" \n",
    "    song_id = r\"where song_id\\s*=\\s*'([^']+)'\"  \n",
    "    top_k = r\"LIMIT\\s+([\\d.]+)\" \n",
    "\n",
    "    # Extraemos los valores usando `re.search`\n",
    "    metodoknn = re.search(metodo, consulta)\n",
    "    song_id_pre = re.search(song_id, consulta)\n",
    "    pre_top_k = re.search(top_k, consulta)\n",
    "    metodofinal = metodoknn.group(1) \n",
    "    song_id_final = song_id_pre.group(1)\n",
    "    final_top_k = pre_top_k.group(1) \n",
    "    if metodofinal=='knn_top_R_tree':\n",
    "        song_idx = int(song_id_final)\n",
    "        query_vectors = features_pca[song_idx * 20 : (song_idx + 1) * 20]\n",
    "        result = knn_top_R_tree(rtree_index, features_pca, track_ids, query_vectors, k=int(final_top_k)) # Llamar a la función con k=3\n",
    "        # agregar los resultados\n",
    "        for i, (song_id, votes) in enumerate(result, 1):\n",
    "            resultado_final.append(song_id)\n",
    "    if metodofinal=='knn_top_lineal':\n",
    "        indicecancion = int(song_id_final)\n",
    "        query = features_pca[indicecancion * 20 : (indicecancion + 1) * 20]  # consulta\n",
    "        top_k =int(final_top_k)  #cuantos k vecinos cercanos quiero\n",
    "        result = knn_top_lineal(features_pca, track_ids, query, top_k)\n",
    "        for i, (song_id, votes) in enumerate(result, 1):\n",
    "            resultado_final.append(song_id)\n",
    "    if metodofinal=='knn_busquedarango_lineal':\n",
    "        indicecancion = int(song_id_final)\n",
    "        query = features_pca[indicecancion * 20 : (indicecancion + 1) * 20]\n",
    "        radio = float(final_top_k) \n",
    "        result = knn_busquedarango_lineal(features_pca, track_ids, query,radio)\n",
    "        for i, (song_id, votes) in enumerate(result, 1):\n",
    "            resultado_final.append(song_id)\n",
    "    if metodofinal=='knn_search_lsh':\n",
    "        query_index = int(song_id_final)\n",
    "        k = int(final_top_k) \n",
    "        resultado_final = knn_search_lsh(query_index, k)\n",
    "        \n",
    "    return resultado_final\n",
    "    \n"
   ]
  },
  {
   "cell_type": "markdown",
   "metadata": {},
   "source": [
    "consultas para utilizar:\n",
    "\"select song_id from spotify_songs using knn_top_lineal where song_id = '0' LIMIT 7\"\n",
    "\n",
    "\n",
    "\"select song_id from spotify_songs using knn_top_R_tree where song_id = '0' LIMIT 7\"\n",
    "\n",
    "\n",
    "\"select song_id from spotify_songs using knn_top_R_tree where song_id = '5' LIMIT 7\"\n",
    "\n",
    "\n",
    "\"select song_id from spotify_songs using knn_top_lineal where song_id = '5' LIMIT 7\"\n",
    "\n",
    "\n",
    "\"select song_id from spotify_songs using knn_busquedarango_lineal where song_id = '0' LIMIT 0.3\"\n",
    "\n",
    "\n",
    "\"select song_id from spotify_songs using knn_top_R_tree where song_id = '12' LIMIT 5\"\n",
    "\n",
    "\n",
    "\"select song_id from spotify_songs using knn_top_lineal where song_id = '12' LIMIT 5\"\n",
    "\n",
    "\n",
    "\"select song_id from spotify_songs using knn_top_R_tree where song_id = '40' LIMIT 12\"\n",
    "\n",
    "\n",
    "\"select song_id from spotify_songs using knn_top_lineal where song_id = '40' LIMIT 12\""
   ]
  },
  {
   "cell_type": "code",
   "execution_count": 20,
   "metadata": {},
   "outputs": [
    {
     "name": "stdout",
     "output_type": "stream",
     "text": [
      "['4QtiVmuA88tPQiCOHZuQ5b', '2docvXwmea0pDCPv7cDe9s', '4Tvw0lweq9l2JPQKFbpbBQ', '0GNlKuzh7ZJTJ1iigkQEVp', '0JiVRyTJcJnmlwCZ854K4p']\n"
     ]
    }
   ],
   "source": [
    "consulta = \"select song_id from spotify_songs using knn_top_R_tree where song_id = '12' LIMIT 5\"\n",
    "print(parser(consulta))\n"
   ]
  },
  {
   "cell_type": "code",
   "execution_count": 21,
   "metadata": {},
   "outputs": [
    {
     "name": "stdout",
     "output_type": "stream",
     "text": [
      "['4QtiVmuA88tPQiCOHZuQ5b', '2docvXwmea0pDCPv7cDe9s', '0GNlKuzh7ZJTJ1iigkQEVp', '4Tvw0lweq9l2JPQKFbpbBQ', '52AWuNH7rgcyRdEM0lQzPz']\n"
     ]
    }
   ],
   "source": [
    "consulta = \"select song_id from spotify_songs using knn_top_lineal where song_id = '12' LIMIT 5\"\n",
    "print(parser(consulta))"
   ]
  },
  {
   "cell_type": "code",
   "execution_count": 22,
   "metadata": {},
   "outputs": [
    {
     "name": "stdout",
     "output_type": "stream",
     "text": [
      "['4QtiVmuA88tPQiCOHZuQ5b', '2docvXwmea0pDCPv7cDe9s', '0GNlKuzh7ZJTJ1iigkQEVp', '4Tvw0lweq9l2JPQKFbpbBQ', '52AWuNH7rgcyRdEM0lQzPz', '0JiVRyTJcJnmlwCZ854K4p', '4wkWWZDqc7lgqOUA70pHMw', '6G8fblD9DbcEmaKOKDy3XL', '1AsRjeavWPH8sCQbjMP8Xh', '6TCk1yecQRDU5sXG3vjTYj', '0UZhP6BBkksOGmJ3hAABRD', '4LloVtxNZpeh7q7xdi1DQc', '7hvmAHUk63H4JBOQTxUwfx', '21xVx0n3qonzK2PXah9M1S', '7EEaV81pUNKvqsTrEHGoQH', '7FxzgizJRGTQ3fxUqfvljg', '2JEiLgAJl2jRakXjgAyATX', '1JhC0lqohQVWI3cQnHNtYM', '1QObH6m6jPyOHBLW2RLEpo', '79hH8RuVS9af6ixS97wREx', '1W7ZNYKcYjacT95mAVR6cS', '6AmhAYwQMKrZMZ5qTqxhli', '4QE7rcOeNErdz87pgSZ823', '3TIJkJgwWSAXb8zyOV6q5a', '6Zjw7NdXuLiwULHgyJ0Jk8', '53EbeKQwSawmvwdRsQyjRh', '37YWwmlRl1GonSwjRuOiEq', '4hAhyE1iL07EIUJnqw2bsV', '3UYiU57SMiAS5LqolhHJw1', '1lNn0udm3EHKFRCGpNKZxn', '3x6QCo3LClrqiJF19w8daE', '3JWIByW6qzV0IGsElrPkAj', '3otXXK647gcQHcy6Mu5aGy', '22gFNeEYuXuElY2QsLeMqx', '3Nbcx1svCSzmyYG2I81YCZ', '0NSeXLBOh16zjbENkAu0P6', '758wEKVqfYopJIHYWdLVd4', '2robgg0p9YjF9mc8NzhOSp', '3aoDEt6zSuYQ47gzarlaVo', '0jnNF53wBDWdMFZTt0ZLe0', '0mWi3EKhPDl42DL5LaHX38', '0ez8HT7qqmwMd9wY7PUAuW', '6T27IN7Ai94BeDv6PPCmoC', '0CR60XwKbzgohE3I6NMjlR', '5Kr3a1wbMDSxdgDZzJhxhy', '2N7Qm7YdgvWlg8ZoxLkOND', '0iQmZXv7e8EHcmJmHpZX3o', '6xpEVwTvW5KNqPQ7yFpq12', '6sHsXIJoEN5JpdkGMQDJxt', '4Wa3sH0hhacqcEBDbv5RBU', '6WhzFzROw3aq3rPWjgYlxr', '2Vim06YsRb4uJRpbeq6NR6', '0yFvWTLs3iIwDbc91noXGT', '10bbgurV9w05vJVGAX9jYq', '7fNPXeqDaUjWiZhiPHTG6y', '0YtPUj1uKaCccyr4ubrX3K', '6XfZ63vc5I1IUDRfw2FinH', '6KZXoZkBuLQbyCylfKdZoF', '1JzxgZWVwxajO5txHJSVfY', '2QbuqnxPaHCsYnlbAZDxvV', '2wgDAPgBhFA7pnIbm0YOhP', '6crBy2sODw2HS53xquM6us', '7nD2JPaxIKUdxd2UWgnaGL', '3iWlbqAaoIR7H7gyO3a6rV', '5aZaJ7puWEEwKDJg0GjsIb', '1r1fPuhj9H4VdXr7OK6FL5', '2FA1ckR1QDUBaHdrlTam6Q', '7c1Dar0pIAW7w5TzaGjt9t', '1Kr8qVQBldnHQbaMW7wS69', '1DJVPxNc4PmCC8EB9oZYfB', '7vrbpecXeRa2GxHWwot58B', '5drW6PGRxkE6MxttzVLNk5', '00HIh9mVUQQAycsQiciWsh', '7j3HTSCtsbMGDUBwiAP7pw', '1cVlW9WQiGlFdWUXFdFZGh', '1i3UvjbQS0OoBoKkILthR2', '4UmehW6tTXGC7HsuIGujMR', '6fybp4N6eW3bsFAvARxyVe', '1qRA5BS78u3gME0loMl9AA', '1hfoihnGAryxcax3xUfhKv', '6jfEZdUJ2Yla6h7gTJgKuo', '23cj0rlc0UtTBaCg60VCkm', '5Po5YmT4RhawSeqNXx5m0o', '5FPnjikbwlDMULCCCa6ZCJ', '6UcTHiP25meOD9ox8Rspgx', '5HycJMEM8MyX4i0ErSeuC4', '2nHYDKaWCLNGYMPF0mNLCr', '66wkCYWlXzSTQAfnsPBptt', '3IlcFFY0W9gNomWQjnX6Rj', '5T8xLLlhAI90EV5cOkm0np', '300zfRaCgTmEm5Eqe3HqZZ', '3XVozq1aeqsJwpXrEZrDJ9', '3rwdcyPQ37SSsf1loOpux9', '5OuPKLNJjsBsyRZ9PjTRTj', '6iSTWxErxiep4YiYjXGmSo', '2djdCbLj1pzRmrDNe7PkW2', '7pkWZL0kA26s754CwyK0SH', '40e9kU9Wd4vbedqSA7Io4n', '0SujigeT7cxuxBfhN3eOcp', '0trI4oy0dayuYLeZioJHQg', '25dl9vcAJ9F6D6K35I3Nbw', '6QRwT0bcuIsLGRCqMDJrVR', '7krbSH3rd8lhIZvuzTV3Bl', '5DxXgozhkPLgrbKFY91w0c', '5mUwRVKlJvIqn1bM9Lxzq5', '0tBePnYDUyacbXvTIvTGAi', '3VHCuPFZ9JA1kopIlNLDdz', '2EEmzqzM70CybVspgM7YRT', '5gsW8TMmNVnevjq13h0Nlp', '200OfxLpaRBYzIg02cBcgt', '0pQskrTITgmCMyr85tb9qq', '0iPy1MWCrOT7SjGs14zSSv', '1283wAzqC0bPu6Hdkgkqa8', '2jQeX1fMZo5z82w3BviN5x', '5TtNpBiVb0frGgr63WEyyv', '6iRrt1UtrgsxsOZUjp6VgC', '6JFsaLR3DbdbBSmr75DlpA', '0hVXuCcriWRGvwMV1r5Yn9', '4zZ2rPOa8itw3VuusVSicv', '69uCmYNvkqnvIpyTKJXZ5P', '7GL2SOvJXs8QVLX0cUADeq', '6aNdjlgzu6bJeRBFFXiVNu', '17nGEa20jceT2qypJnTOse', '3yYk5jhpqHF6lpIyvjhTRZ', '0aersVHlGGXcHeRvHtuaSt', '7MX4vfOgVipkrlMyBM2jEq', '6Hgh47WXVKtXN5zGOu0hjI', '2tUBqZG2AbRi7Q0BIrVrEj', '0vqV7lfbSZ5QDs9qgw3PKZ', '4TWa40ZGCUDhtxykpoWCcq', '1w59KTZidiW3NN0FA7xVGZ', '672N8DGGTOLCOgWe0koX5g', '58Jkqs5MtV3GXwnq6yq5v4', '4NCNS1hUY29Iy2o7qKpGBG', '1Avnd5xLg7HmaNofmYk7RQ', '7vBxSZNdN8gYFqCaNQ808v', '5lNRxj20YUieZmOz0JuK0m', '64WGFpBr68nqhKHahymiyZ', '6YnvT0ToBvUTWjhFwvIgeF', '7ILEWkpfdK6AjH2D7jppWk', '2mP0c7el8oXRpMOFEix7SJ', '3rdxvEfBp86WNcRDLaFEk9', '4ktwDUoKdVlk50lUlSIMEY', '2tj2FgND5n87iwEanu3Dgz', '12wyGF0d1ohSLtJ0wF5Sjy', '6Pkqfsx6tipFO4qpwkuRYz', '7MRghgE1RnubxFJBfUEPwt', '5LKvZJTAJlNoVuILrGCY1K', '4NzenFNqsYRvrG7rLdF1Ej', '5gJcMDLHDllFMhSPByZhhE', '58ctD8HaEUXJkdv7TTsmG8', '0kTCZWErCBvYrM9CNjQaRT', '0Ha2AZQ1cHCxycIpmLyKeg', '3AgEOAo3dvkjtsBmeTGRjg', '4H5ihvXmN3NpxTiDs1wJKZ', '50Lg2uicm4djCkdvs7cAAs', '6X5rAr7k2l5w4VbZCsHQ8v', '2l6sQvgAOtvpkmN5MD4qPA', '1fQaoh3imrMunWVZh5kf90', '2cooNqkhh52uvZJeHTHUm4', '5m8pL2TqjTvujYcFC2oiNX', '3xVC56rIYsxy1bMuf5ijpA', '2aSqq7claHAcS7KJWI6lmO', '6psI811W9U9nIPDPXIbBiD', '65AuuSC0parBq0hAFyA22v', '3bVwuZb0nYvAMn3roElQnY', '57SRdgtkfzKxzyd4OgEfWW', '78eVUq3eoVxV0Mq1gIPipN', '6U2vGiMNVhJiJqxrlu18uV', '7qBj3Uyq1viGgNVHMwY00D', '5gwLIRjGFf3hXuHoKEsWLg', '1unvk9w2ikBIxcluIwPEvT', '7G3lxTsMfSx4yarMkfgnTC', '26Qhn2T88XqVinXQpmSarj', '6xMHglHoafdDFGXS6qfwSH', '1Jwj7grActJ0oT50gGyoPw', '1FvDJ9KGxcqwv1utyPL3JZ', '7zSDDsIlks515d0tZGM64x', '6AKRht2NaMsg7z13psKjHk', '40YzxIUtUzfe0dr4PPMo3u', '65NgsMieGd6ffCTIYfEo7w', '7mkT9kS25nUIoNkm02Ww0n', '6cMybQhimXpkzQdgKca80j', '7Lyl8T6UVffsrp0gx7HzgW', '3MOECVkNshqHYTPt5DZcdN', '38ydcsbayM4oX21Hhu84DT', '6tv43DiBgTHgC0dtID2MXW', '248OFOZef6ShXv6DGgbnxU', '42ZVk59gT4tMlrZmd8Ijxf', '52vS7mJ0a70Z4uRCfl8SjH', '2FfyiTnl5OPa1hYdCWZGdG', '35ARq65zezGBwA7EHBXm2w', '2nKOUDSm0EhVvQWoDyjl27', '4dA9hCQDGz9eloCRNacWfO', '0P6AWOA4LG1XOctzaVu5tt', '6W7NpqBIiecNPyKOOFNcuL', '0YTXcXihG2qpxb3U3LbPfc', '1w29UTa5uUvIri2tWtZ12Y', '1mDLznlo64yN2E2Tu8peI1', '36fRbuu9QkKVDR1j7jTI2U', '0LtKw37CYqXqsRF9pyDGGx', '3RGVYzHQWQOlHYphHMAaaj', '6PtXobrqImYfnpIxNsJApa', '60ubljabcQKHeMpjiypBcH', '5xok0LRntz8qY9ljEwPV9L', '4kcsjzzTSW263lhs5VOhVa', '1NkjSBBDOYB4abj2ieO8XS', '4GdB5M7GbwLZLouktYocFC', '2UguK8EKNaq2uNLlhrnU8G', '6YKb5UMzDOtfCfbPvJZ8XT', '3lBoISh2FvtpdQt1lsU9nN', '5zsgyaahJyDW91qyvzSG3Y', '1U0nWcWMR1gyHEHBvx5YpW', '5bTaLbpRK8aJvqf2xHlwa7', '71mDjdeVK9sqXmamMHaAfX', '0uc7vguphIRR98PfMjaQtq', '1h4LSPG9N4t2Ct6frvnNQN', '6r7FXNO57mlZCBY6PXcZZT', '0aCI9tg8Pb9l1uoOPk9R8n', '7dLOOzJGQnsgqFcflWiEcZ', '0fFotmAiRwLfpogfYs48PQ', '2Nh2cMryoXl7BrZoIeN2Pr', '4gKeCkrFA6BX1M9HKqZXNi', '3cc0xXhN0KMcBQaUzGEEOv', '1P0iAEz2vmTPfXtp2XTlcO', '6aJ1RcRk7QfGxRnaqL0syV', '4TnjEaWOeW0eKTKIEvJyCa', '02SUyCzxfqllXeEUqVNMVv', '2IRZnDFmlqMuOrYOLnZZyc', '1YwNlWLf8auhazSQUDQLFU', '0s45sL9DLOcro6VbmagQKl', '309z0CzeLvltCqcvpeOD9T', '1bhUWB0zJMIKr9yVPrkEuI', '3wZGqsIjAMd9w0nrxG4xby', '4ECNtOnqzxutZkXP4TE3n3', '66sCCqeaxSiDbIdewAx6JX', '4D3o6Hh3GydRpTTlyLP3D9', '4m3OS54KWywYhP7WD7z1cg', '2KjYhaRlB5NtCJ0JotvJhZ', '7gxJ4A7XuV9ZHw6ZrTpfp7', '4BixGe6AcqJU2etTzeh2cN', '0zhkLYpmMZyjtv03haC77Y', '3RbmtLzTMJsbJaXG9wCgwq', '6HMHgBHdLBQ0QYIaOp2gse', '3khnrlaj5CiXZgRLRiHsI8', '6A7A9t2syLOYlpWowYYhKm', '4Iam3vZMJCMltFkK9mNruw', '54JpZ7kVvW7VsMFj8FqY95', '517cAnPxsaxfrkKHHY41wB', '25FTMokYEbEWHEdss5JLZS', '41BmSpGurS32HCl6O2UBKU', '5eAGda6EwIwCJp2i2S3UeS', '05DOYX9MB5oUQbr6RPa6dH', '5nBGSfHdmO6P1UwS3PthWW', '39Yi5kzFTB5AsTy0I81aB9', '5bpaHLJ08GNBKW35ZfCYJy', '6SpLc7EXZIPpy0sVko0aoU', '7HqoRcDRp7zNjbXAlt3r8b', '4iXZFxEUzTTLMLE5jCyKEb', '0GjzyfE9VVSVVkheoweAGs', '1BMlDJRb0MtjhliYhlofhw', '6cREm4bV7V79Yxdilx9HDo', '3NFMM7IW7Mpk8t3ykUC8nQ', '2LyHAsMcpW0Dm17rWYa79p', '10rChmECwPcvTTj4w07hq4', '4ho76qriHdzQFaoKhrPvwr', '47FyQCd3TYLrZ9TU6MPaWK', '5aRwivY58BBZXIorDujeNd', '3RkS5epxKd1SFlDdLuKJMJ', '6EPRKhUOdiFSQwGBRBbvsZ', '6d4E3KLrX4xiwx1DiIJefO', '7GREpCJkwNJnbgsN9sViU2', '1yl4Lly0mQBJwDeocjsbxc', '1VyoSDW7fP7ud2z0YpL9u8', '1I8tHoNBFTuoJAlh4hfVVE', '3c6vdiLeV9DUbTMWk5H3se', '1nelcMvCBAtZnqXVrnNRfx', '365NFpqKShIPDEC6fxnUNp', '4XibrJJHS3DJO13t3hF6SW', '5E89Izp4YhPyNShoxiOJ1u', '1QdG3nKKTrNWlN9x9t1cH6', '694WTOYVnKjIF2SpGK820u', '1XeaBc0qxmiu1LdxIThsbf', '4coVboSNkToRTBRqxXk4vr', '0XYvHhtD8ONs8Kqzx7D1On', '4ETrFf4SEWUyvQRtnB2ibm', '7LJkGyL4vVrtn1mho7BmtA', '5dwkH86siu5ssq03GzXZnw', '6fTt0CH2t0mdeB2N9XFG5r', '0FlBJV5ECub7qyUZ4FpGXx', '6WEBIVqiEsevfgJefTyuQQ', '0FPXDopNoeVy2GmE6ZLrv1', '3hb2ScEVkGchcAQqrPLP0R', '2yR1PWuxh7kmuSPF8wKftn', '1ulmJh7abgw27HTLIyfDSS', '2DIKqQGSPFxCYIuovX2FYQ', '44aN5xKL3kGHvQ5bXVk6B8', '6EoiDyFLeF4QX5IfFKXSYF', '3qAqWMAacEDWKuI9pMfhRm', '2jz4XbBHonx48cyTgvcBt5', '0BTAWeXFNhgAYixu5YGtE8', '15EPc80XuFrb2LmOzGjuRg', '4JJIj448WHVYw2kEYfIj94', '13REzt8iuHA4V7HXk4eIEa', '3D1P3oPecqAQy2u33gAhsM', '24lMtPOCzP5g4hrg3NklLa', '2pMAmZdHfQHyqJCXJbfhK3', '2upFJKo7EvWdMx5732mhuc', '1Mw433bxzwrR1boiIcovdZ', '27aGlicHJKf5QY20looYlR', '3AaZtZVrkVvE7fnLP80LLh', '5KUsozdWhCXBgDWtaqQWy5', '6ox0BtzYRNG5RmuWvHQeGE', '6cAKeFFYW2aClZSUyvqAEW', '7ilOQyCyjY35pjorODPbpT', '34RaVshrBXIINSVrIzW47P', '7f5trao56t7sB7f14QDTmp', '65SjaqhfKeFhmXprzlzyn4', '4tTBDyNwQm9dyh6DS3spB5']\n"
     ]
    }
   ],
   "source": [
    "consulta = \"select song_id from spotify_songs using knn_busquedarango_lineal where song_id = '12' LIMIT 5\"\n",
    "print(parser(consulta))"
   ]
  },
  {
   "cell_type": "code",
   "execution_count": 37,
   "metadata": {},
   "outputs": [
    {
     "name": "stdout",
     "output_type": "stream",
     "text": [
      "['4QtiVmuA88tPQiCOHZuQ5b', '4UAPxdGgrbJjht2mwHnMUu', '6q8onrzcka32nGVrnWYGBQ', '6WVheb5G29cbDOzF4qMfli', '7pyEd6g5y7SYdKNgRtleEB']\n"
     ]
    }
   ],
   "source": [
    "consulta = \"select song_id from spotify_songs using knn_search_lsh where song_id = '12' LIMIT 5\"\n",
    "print(parser(consulta))"
   ]
  }
 ],
 "metadata": {
  "kernelspec": {
   "display_name": "base",
   "language": "python",
   "name": "python3"
  },
  "language_info": {
   "codemirror_mode": {
    "name": "ipython",
    "version": 3
   },
   "file_extension": ".py",
   "mimetype": "text/x-python",
   "name": "python",
   "nbconvert_exporter": "python",
   "pygments_lexer": "ipython3",
   "version": "3.11.5"
  }
 },
 "nbformat": 4,
 "nbformat_minor": 2
}
