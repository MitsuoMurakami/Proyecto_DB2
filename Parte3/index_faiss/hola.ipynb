{
 "cells": [
  {
   "cell_type": "code",
   "execution_count": 10,
   "metadata": {},
   "outputs": [
    {
     "name": "stdout",
     "output_type": "stream",
     "text": [
      "1280\n"
     ]
    }
   ],
   "source": [
    "\n",
    "import pickle\n",
    "\n",
    "# load the data\n",
    "with open(\"feature_spotify.pkl\", \"rb\") as file:\n",
    "    track_ids = pickle.load(file)\n",
    "    features = pickle.load(file)\n",
    "\n",
    "# print(track_ids)\n",
    "\n",
    "# print(len(track_ids), len(features))\n",
    "\n",
    "print(len(features[0][19]))\n",
    "\n",
    "# for i in range(0, len(track_ids)):\n",
    "#     print(track_ids[i], features[i])\n",
    "\n",
    "# # print(features[0])\n",
    "\n",
    "# # Cargar los datos\n",
    "# with open(\"feature_spotify.pkl\", \"rb\") as file:\n",
    "#     track_ids = pickle.load(file)\n",
    "#     features = pickle.load(file)\n",
    "\n",
    "# # Guardar en un archivo .txt\n",
    "# with open(\"spotify_features.txt\", \"w\") as txt_file:\n",
    "#     for i in range(len(track_ids)):\n",
    "#         txt_file.write(f\"{track_ids[i]}: {features[i]}\\n\")\n",
    "\n",
    "# print(\"Datos guardados en spotify_features.txt\")"
   ]
  }
 ],
 "metadata": {
  "kernelspec": {
   "display_name": "base",
   "language": "python",
   "name": "python3"
  },
  "language_info": {
   "codemirror_mode": {
    "name": "ipython",
    "version": 3
   },
   "file_extension": ".py",
   "mimetype": "text/x-python",
   "name": "python",
   "nbconvert_exporter": "python",
   "pygments_lexer": "ipython3",
   "version": "3.11.5"
  }
 },
 "nbformat": 4,
 "nbformat_minor": 2
}
