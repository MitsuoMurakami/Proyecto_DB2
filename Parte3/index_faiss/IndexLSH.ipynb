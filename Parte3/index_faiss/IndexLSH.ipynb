{
 "cells": [
  {
   "cell_type": "code",
   "execution_count": 1,
   "metadata": {},
   "outputs": [
    {
     "name": "stdout",
     "output_type": "stream",
     "text": [
      "Tiempo de indexación (LSH CPU): 2.25 segundos\n",
      "\n",
      "Búsqueda k-NN para el objeto en el índice 100 (k=8):\n",
      "Distancias: [  0. 224. 225. 225. 227. 233. 234. 234.]\n",
      "Índices: [   100  89820  12540 234680 172300 202380 128000 173140]\n",
      "Tiempo de búsqueda k-NN: 0.01 segundos\n"
     ]
    },
    {
     "data": {
      "text/plain": [
       "0.005373477935791016"
      ]
     },
     "execution_count": 1,
     "metadata": {},
     "output_type": "execute_result"
    }
   ],
   "source": [
    "import faiss\n",
    "import numpy as np\n",
    "import pickle\n",
    "import time\n",
    "\n",
    "N = 11903  # Número de canciones (features)\n",
    "k = 8       # Número de vecinos más cercanos\n",
    "\n",
    "with open(\"feature_spotify.pkl\", \"rb\") as file:\n",
    "    track_ids = pickle.load(file)\n",
    "    features = pickle.load(file)\n",
    "\n",
    "features_flat = np.vstack([np.array(f, dtype='float32') for f in features[:N] if len(f[0]) == 1280])\n",
    "\n",
    "n_bits = 1024  # Número de bits para el hash LSH\n",
    "index_lsh = faiss.IndexLSH(1280, n_bits)\n",
    "\n",
    "# Indexacion\n",
    "start_time = time.time()\n",
    "index_lsh.add(features_flat)\n",
    "indexation_time = time.time() - start_time\n",
    "print(f\"Tiempo de indexación (LSH CPU): {indexation_time:.2f} segundos\")\n",
    "\n",
    "# Busqueda K-NN\n",
    "def knn_search_lsh(query_index, k):\n",
    "    query_vector = features_flat[query_index].reshape(1, -1)\n",
    "    start_time = time.time()\n",
    "    D, I = index_lsh.search(query_vector, k)\n",
    "    search_time = time.time() - start_time\n",
    "    print(f\"Búsqueda k-NN para el objeto en el índice {query_index} (k={k}):\")\n",
    "    print(\"Distancias:\", D[0])\n",
    "    print(\"Índices:\", I[0])\n",
    "    print(f\"Tiempo de búsqueda k-NN: {search_time:.2f} segundos\")\n",
    "    return search_time\n",
    "\n",
    "\n",
    "\n",
    "\n",
    "query_index = 100\n",
    "\n",
    "print()\n",
    "# Ejecutar búsqueda K-NN\n",
    "knn_search_lsh(query_index, k)\n"
   ]
  }
 ],
 "metadata": {
  "kernelspec": {
   "display_name": "base",
   "language": "python",
   "name": "python3"
  },
  "language_info": {
   "codemirror_mode": {
    "name": "ipython",
    "version": 3
   },
   "file_extension": ".py",
   "mimetype": "text/x-python",
   "name": "python",
   "nbconvert_exporter": "python",
   "pygments_lexer": "ipython3",
   "version": "3.11.5"
  }
 },
 "nbformat": 4,
 "nbformat_minor": 2
}
