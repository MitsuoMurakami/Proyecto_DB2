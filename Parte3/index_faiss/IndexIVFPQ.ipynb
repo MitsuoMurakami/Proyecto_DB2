{
 "cells": [
  {
   "cell_type": "code",
   "execution_count": 4,
   "metadata": {},
   "outputs": [
    {
     "name": "stdout",
     "output_type": "stream",
     "text": [
      "Tiempo de indexación (IVFPQ CPU): 37.36 segundos\n",
      "\n",
      "Búsqueda k-NN:\n",
      "Distancias: [4069372.5 5115957.5 5126740.5 5139553.  5145473.  5156438.  5166973.\n",
      " 5188542. ]\n",
      "Índices: [   100  59842 204240   4980  11380  27880 113460  71320]\n",
      "Tiempo de búsqueda k-NN: 0.00 segundos\n",
      "\n",
      "Búsqueda por rango:\n",
      "Distancias: [4069372.5 5283658.  5139553.  5462076.5 5145473.  5442923.  5218200.\n",
      " 5156438.  5498279.  5306655.5 5446664.5 5409887.5 5388706.5 5115957.5\n",
      " 5491899.  5431830.  5188542.  5494858.  5478366.  5385044.5 5392237.\n",
      " 5488197.  5402395.5 5402854.  5490252.5 5166973.  5465943.  5230621.\n",
      " 5311259.  5486010.  5459155.  5448962.5 5418455.5 5436960.  5469574.5\n",
      " 5435938.5 5438075.  5491748.5 5126740.5 5441240.5 5347610.  5492811.\n",
      " 5214279.  5367422.  5367422.  5348628.5 5411836. ]\n",
      "Índices: [   100   3200   4980   8800  11380  12100  25262  27880  33480  37160\n",
      "  42800  48320  59840  59842  61880  66500  71320  74660  78760  83840\n",
      "  86720  94880  99060 102120 102740 113460 120700 132600 133000 133040\n",
      " 149320 159700 161560 162760 176840 186880 190640 192580 204240 208720\n",
      " 209240 209700 212880 213000 213020 223600 225280]\n",
      "Tiempo de búsqueda por rango: 0.00 segundos\n"
     ]
    },
    {
     "data": {
      "text/plain": [
       "0.0"
      ]
     },
     "execution_count": 4,
     "metadata": {},
     "output_type": "execute_result"
    }
   ],
   "source": [
    "import faiss\n",
    "import numpy as np\n",
    "import pickle\n",
    "import time\n",
    "\n",
    "N = 11903\n",
    "k = 8\n",
    "\n",
    "nlist = 100  # Numero de clusters\n",
    "m = 16        # Cantidad de subespacios en PQ\n",
    "\n",
    "with open(\"feature_spotify.pkl\", \"rb\") as file:\n",
    "    track_ids = pickle.load(file)\n",
    "    features = pickle.load(file)\n",
    "\n",
    "features_flat = np.vstack([np.array(f, dtype='float32') for f in features[:N] if len(f[0]) == 1280])\n",
    "\n",
    "quantizer = faiss.IndexFlatL2(1280)  # Quantizador base        # distancia euclidiana\n",
    "index_ivfpq = faiss.IndexIVFPQ(quantizer, 1280, nlist, m, 8)\n",
    "\n",
    "# Indexacion\n",
    "start_time = time.time()\n",
    "index_ivfpq.train(features_flat)\n",
    "index_ivfpq.add(features_flat)\n",
    "indexation_time = time.time() - start_time\n",
    "print(f\"Tiempo de indexación (IVFPQ CPU): {indexation_time:.2f} segundos\")\n",
    "\n",
    "# Busqueda K-NN\n",
    "def knn_search_ivfpq(query_index, k):\n",
    "    query_vector = features_flat[query_index].reshape(1, -1)\n",
    "    start_time = time.time()\n",
    "    D, I = index_ivfpq.search(query_vector, k)\n",
    "    search_time = time.time() - start_time\n",
    "    print(f\"Búsqueda k-NN:\")\n",
    "    print(\"Distancias:\", D[0])\n",
    "    print(\"Índices:\", I[0])\n",
    "    print(f\"Tiempo de búsqueda k-NN: {search_time:.2f} segundos\")\n",
    "    return search_time\n",
    "\n",
    "# Busqueda por rango\n",
    "def range_search_ivfpq(query_index, radius):\n",
    "    query_vector = features_flat[query_index].reshape(1, -1)\n",
    "    start_time = time.time()\n",
    "    lims, D, I = index_ivfpq.range_search(query_vector, radius)\n",
    "    range_search_time = time.time() - start_time\n",
    "    print(f\"Búsqueda por rango:\")\n",
    "    print(\"Distancias:\", D)\n",
    "    print(\"Índices:\", I)\n",
    "    # for i in range(lims[0], lims[1]):\n",
    "    #     print(f\"Índice: {I[i]}, Distancia: {D[i]}\")\n",
    "    print(f\"Tiempo de búsqueda por rango: {range_search_time:.2f} segundos\")\n",
    "    return range_search_time\n",
    "\n",
    "query_index = 100\n",
    "rad = 5.5*10**6\n",
    "# rad = 50000000\n",
    "\n",
    "# Ejecutar búsqueda K-NN\n",
    "print()\n",
    "knn_search_ivfpq(query_index, k)\n",
    "\n",
    "# Ejecutar búsqueda por rango\n",
    "print()\n",
    "range_search_ivfpq(query_index, rad)\n"
   ]
  }
 ],
 "metadata": {
  "kernelspec": {
   "display_name": "base",
   "language": "python",
   "name": "python3"
  },
  "language_info": {
   "codemirror_mode": {
    "name": "ipython",
    "version": 3
   },
   "file_extension": ".py",
   "mimetype": "text/x-python",
   "name": "python",
   "nbconvert_exporter": "python",
   "pygments_lexer": "ipython3",
   "version": "3.11.5"
  }
 },
 "nbformat": 4,
 "nbformat_minor": 2
}
