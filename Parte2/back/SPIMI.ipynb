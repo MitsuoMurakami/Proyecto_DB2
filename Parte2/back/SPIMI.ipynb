{
 "cells": [
  {
   "cell_type": "markdown",
   "metadata": {},
   "source": [
    "# Backend"
   ]
  },
  {
   "cell_type": "code",
   "execution_count": null,
   "metadata": {
    "vscode": {
     "languageId": "plaintext"
    }
   },
   "outputs": [],
   "source": [
    "import nltk\n",
    "import numpy as np\n",
    "import regex as re\n",
    "import csv\n",
    "from nltk.stem.snowball import SnowballStemmer\n",
    "nltk.download('punkt')\n",
    "nltk.download('punkt_tab')\n",
    "stemmer = SnowballStemmer('spanish')"
   ]
  },
  {
   "cell_type": "code",
   "execution_count": null,
   "metadata": {
    "vscode": {
     "languageId": "plaintext"
    }
   },
   "outputs": [],
   "source": [
    "### 1. Preparación"
   ]
  },
  {
   "cell_type": "code",
   "execution_count": null,
   "metadata": {
    "vscode": {
     "languageId": "plaintext"
    }
   },
   "outputs": [],
   "source": [
    "# abrir el csv\n",
    "list = [] # Guarda las canciones\n",
    "with open('spotify_songs.csv', newline='', encoding='utf-8') as file:\n",
    "    spamreader = csv.reader(file, delimiter=',', quotechar='\"')\n",
    "    for row in spamreader:\n",
    "        string = \"\"\n",
    "        string = row[1] + \" \" + row[2] + \" \" + row[3]\n",
    "        # for campo in row:\n",
    "        #     string += campo + \" \"\n",
    "        # print(string)\n",
    "        list.append(string)\n",
    "\n",
    "for i in range(1, len(list)):\n",
    "    print(list[i])\n",
    "\n",
    "# print(len(list))\n"
   ]
  },
  {
   "cell_type": "markdown",
   "metadata": {},
   "source": [
    "### 1- Preprocesamiento"
   ]
  },
  {
   "cell_type": "code",
   "execution_count": null,
   "metadata": {
    "vscode": {
     "languageId": "plaintext"
    }
   },
   "outputs": [],
   "source": [
    "# Tokenizar, filtrar stopwords, eliminar signos, stemming\n",
    "\n",
    "with open(\"stoplist.txt\", encoding=\"utf-8\") as file:\n",
    "    stoplist = [line.rstrip().lower() for line in file]\n",
    "    \n",
    "def preprocesamiento(texto,stemming=True):\n",
    "  words = []\n",
    "  # 1- convertir a minusculas\n",
    "  texto = texto.lower()\n",
    "  # 2- eliminar signos con regex\n",
    "  texto = re.sub(r'[^a-zA-Z0-9_À-ÿ]', ' ', texto)\n",
    "  # 3- tokenizar\n",
    "  words = nltk.word_tokenize(texto, language='spanish')\n",
    "  # 3- eliminar stopwords\n",
    "  words = [word for word in words if word not in stoplist]\n",
    "  # 4- Aplicar reduccion de palabras (stemming)\n",
    "  if stemming:        \n",
    "      words = [stemmer.stem(word) for word in words]\n",
    "  return words"
   ]
  }
 ],
 "metadata": {
  "language_info": {
   "name": "python"
  }
 },
 "nbformat": 4,
 "nbformat_minor": 2
}
